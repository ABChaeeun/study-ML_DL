{
  "nbformat": 4,
  "nbformat_minor": 0,
  "metadata": {
    "colab": {
      "name": "혼공머딥 3. 회귀알고리즘과 모델규제.ipynb",
      "provenance": [],
      "collapsed_sections": [],
      "authorship_tag": "ABX9TyPwrJQiHkaB3+dSt1I653jX",
      "include_colab_link": true
    },
    "kernelspec": {
      "name": "python3",
      "display_name": "Python 3"
    },
    "language_info": {
      "name": "python"
    }
  },
  "cells": [
    {
      "cell_type": "markdown",
      "metadata": {
        "id": "view-in-github",
        "colab_type": "text"
      },
      "source": [
        "<a href=\"https://colab.research.google.com/github/ABChaeeun/study-ML_DL/blob/master/%ED%98%BC%EA%B3%B5%EB%A8%B8%EB%94%A5_3_%ED%9A%8C%EA%B7%80%EC%95%8C%EA%B3%A0%EB%A6%AC%EC%A6%98%EA%B3%BC_%EB%AA%A8%EB%8D%B8%EA%B7%9C%EC%A0%9C.ipynb\" target=\"_parent\"><img src=\"https://colab.research.google.com/assets/colab-badge.svg\" alt=\"Open In Colab\"/></a>"
      ]
    },
    {
      "cell_type": "markdown",
      "source": [
        "# 3-1. k-최근접 이웃 회귀"
      ],
      "metadata": {
        "id": "ygmhyixB-7XQ"
      }
    },
    {
      "cell_type": "markdown",
      "source": [
        "농어의 길이만 사용"
      ],
      "metadata": {
        "id": "zEJvHVFw-4NN"
      }
    },
    {
      "cell_type": "code",
      "source": [
        "import numpy as np"
      ],
      "metadata": {
        "id": "MpaS5Z6A_WMo"
      },
      "execution_count": null,
      "outputs": []
    },
    {
      "cell_type": "code",
      "source": [
        "perch_length = np.array([8.4, 13.7, 15.0, 16.2, 17.4, 18.0, 18.7, 19.0, 19.6, 20.0, 21.0,\n",
        "       21.0, 21.0, 21.3, 22.0, 22.0, 22.0, 22.0, 22.0, 22.5, 22.5, 22.7,\n",
        "       23.0, 23.5, 24.0, 24.0, 24.6, 25.0, 25.6, 26.5, 27.3, 27.5, 27.5,\n",
        "       27.5, 28.0, 28.7, 30.0, 32.8, 34.5, 35.0, 36.5, 36.0, 37.0, 37.0,\n",
        "       39.0, 39.0, 39.0, 40.0, 40.0, 40.0, 40.0, 42.0, 43.0, 43.0, 43.5,\n",
        "       44.0])\n",
        "perch_weight = np.array([5.9, 32.0, 40.0, 51.5, 70.0, 100.0, 78.0, 80.0, 85.0, 85.0, 110.0,\n",
        "       115.0, 125.0, 130.0, 120.0, 120.0, 130.0, 135.0, 110.0, 130.0,\n",
        "       150.0, 145.0, 150.0, 170.0, 225.0, 145.0, 188.0, 180.0, 197.0,\n",
        "       218.0, 300.0, 260.0, 265.0, 250.0, 250.0, 300.0, 320.0, 514.0,\n",
        "       556.0, 840.0, 685.0, 700.0, 700.0, 690.0, 900.0, 650.0, 820.0,\n",
        "       850.0, 900.0, 1015.0, 820.0, 1100.0, 1000.0, 1100.0, 1000.0,\n",
        "       1000.0])"
      ],
      "metadata": {
        "id": "AgcA__-Y_UIx"
      },
      "execution_count": null,
      "outputs": []
    },
    {
      "cell_type": "code",
      "execution_count": null,
      "metadata": {
        "colab": {
          "base_uri": "https://localhost:8080/",
          "height": 279
        },
        "id": "J27ldv_R-1Sb",
        "outputId": "0daccd4a-5c89-4b05-d2af-446fc724d20b"
      },
      "outputs": [
        {
          "output_type": "display_data",
          "data": {
            "text/plain": [
              "<Figure size 432x288 with 1 Axes>"
            ],
            "image/png": "[encoded data removed]"
          },
          "metadata": {
            "needs_background": "light"
          }
        }
      ],
      "source": [
        "import matplotlib.pyplot as plt\n",
        "\n",
        "plt.scatter(perch_length, perch_weight) # perch_weight -> 타깃값\n",
        "plt.xlabel('length')\n",
        "plt.ylabel('weight')\n",
        "plt.show()"
      ]
    },
    {
      "cell_type": "markdown",
      "source": [
        "훈련세트 준비"
      ],
      "metadata": {
        "id": "Hb_esdbgfhmM"
      }
    },
    {
      "cell_type": "code",
      "source": [
        "from sklearn.model_selection import train_test_split\n",
        "\n",
        "# 1차원 배열로 넣었으므로 1차원 배열로 나옴! (2차원이면 2차원으로)\n",
        "train_input, test_input, train_target, test_target = train_test_split(perch_length, perch_weight, random_state=42)\n",
        "\n",
        "# reshape(행,열) - numpy배열의 메소드\n",
        "# train_input과 test_input을 2차원 배열로 만들었다!\n",
        "# (* 일반적으로 사이킷런에서)\n",
        "# (* 타깃데이터(train_target, test_target)는 1차원으로 냅두는 편)\n",
        "# (* 훈련데이터만 특성이 열방향으로 있어야 하기 때문에 2차원으로 바꿔준것)\n",
        "train_input = train_input.reshape(-1,1); # -1 - 나머지차원이 다 결정되면 남은 차원을 사용하겠다는 뜻\n",
        "test_input = test_input.reshape(-1,1);"
      ],
      "metadata": {
        "id": "KhDfEJkQ_Lfp"
      },
      "execution_count": null,
      "outputs": []
    },
    {
      "cell_type": "markdown",
      "source": [
        "회귀모델 훈련"
      ],
      "metadata": {
        "id": "tJPlGkfhe4gw"
      }
    },
    {
      "cell_type": "code",
      "source": [
        "from sklearn.neighbors import KNeighborsRegressor # 분류 - ~Classifier / 회귀 - Regressor\n",
        "knr = KNeighborsRegressor()\n",
        "knr.fit(train_input, train_target)\n",
        "knr.score(test_input, test_target)"
      ],
      "metadata": {
        "id": "cYY3PcfK_Mwc",
        "colab": {
          "base_uri": "https://localhost:8080/"
        },
        "outputId": "85e79b18-ee92-4043-b371-6be865d35d1a"
      },
      "execution_count": null,
      "outputs": [
        {
          "output_type": "execute_result",
          "data": {
            "text/plain": [
              "0.992809406101064"
            ]
          },
          "metadata": {},
          "execution_count": 6
        }
      ]
    },
    {
      "cell_type": "code",
      "source": [
        "from sklearn.metrics import mean_absolute_error # 평균 절댓값 오차\n",
        "\n",
        "test_prediction = knr.predict(test_input)\n",
        "mae = mean_absolute_error(test_target, test_prediction)\n",
        "print(mae)"
      ],
      "metadata": {
        "id": "Qgy01vOP_MuB",
        "colab": {
          "base_uri": "https://localhost:8080/"
        },
        "outputId": "205423e3-0add-4ece-8eb3-177f8b3c95af"
      },
      "execution_count": null,
      "outputs": [
        {
          "output_type": "stream",
          "name": "stdout",
          "text": [
            "19.157142857142862\n"
          ]
        }
      ]
    },
    {
      "cell_type": "markdown",
      "source": [
        "과대적합과 과소적합"
      ],
      "metadata": {
        "id": "PBFIobbtldbd"
      }
    },
    {
      "cell_type": "code",
      "source": [
        "knr.score(train_input, train_target)"
      ],
      "metadata": {
        "id": "RWo6zJI5_Mpy",
        "colab": {
          "base_uri": "https://localhost:8080/"
        },
        "outputId": "f0b14cd1-6d64-4fe8-a594-26419968e12b"
      },
      "execution_count": null,
      "outputs": [
        {
          "output_type": "execute_result",
          "data": {
            "text/plain": [
              "0.9698823289099254"
            ]
          },
          "metadata": {},
          "execution_count": 8
        }
      ]
    },
    {
      "cell_type": "code",
      "source": [
        "knr.score(test_input, test_target)"
      ],
      "metadata": {
        "id": "jJ2N0PkX_Mn9",
        "colab": {
          "base_uri": "https://localhost:8080/"
        },
        "outputId": "c5ef2307-ad80-4d1d-d250-290fb028039e"
      },
      "execution_count": null,
      "outputs": [
        {
          "output_type": "execute_result",
          "data": {
            "text/plain": [
              "0.992809406101064"
            ]
          },
          "metadata": {},
          "execution_count": 9
        }
      ]
    },
    {
      "cell_type": "markdown",
      "source": [
        "이웃개수 줄이기"
      ],
      "metadata": {
        "id": "yBiUNxq6mGBk"
      }
    },
    {
      "cell_type": "code",
      "source": [
        "knr.n_neighbors = 3 # 5에서 3으로 줄임\n",
        "knr.fit(train_input, train_target)\n",
        "\n",
        "print(knr.score(train_input, train_target))"
      ],
      "metadata": {
        "id": "T2gSPfHe_Ml1",
        "colab": {
          "base_uri": "https://localhost:8080/"
        },
        "outputId": "15acfc14-7f58-4b0c-d395-5803a5cd0adb"
      },
      "execution_count": null,
      "outputs": [
        {
          "output_type": "stream",
          "name": "stdout",
          "text": [
            "0.9804899950518966\n"
          ]
        }
      ]
    },
    {
      "cell_type": "code",
      "source": [
        "print(knr.score(test_input, test_target))"
      ],
      "metadata": {
        "id": "eOhIFpgd_Mjh",
        "colab": {
          "base_uri": "https://localhost:8080/"
        },
        "outputId": "e83c1729-5274-44b7-ab7b-359bf8e5e328"
      },
      "execution_count": null,
      "outputs": [
        {
          "output_type": "stream",
          "name": "stdout",
          "text": [
            "0.9746459963987609\n"
          ]
        }
      ]
    },
    {
      "cell_type": "markdown",
      "source": [
        "# 3-2. 선형 회귀"
      ],
      "metadata": {
        "id": "bn5uiAn1pAVy"
      }
    },
    {
      "cell_type": "markdown",
      "source": [
        "아주 큰 농어"
      ],
      "metadata": {
        "id": "YvOK8-1SpOI0"
      }
    },
    {
      "cell_type": "code",
      "source": [
        "print(knr.predict([[50]]))"
      ],
      "metadata": {
        "id": "4eHYNsnq_Mf2",
        "colab": {
          "base_uri": "https://localhost:8080/"
        },
        "outputId": "f8d10a53-e1cd-437d-fc2f-154cf744af70"
      },
      "execution_count": null,
      "outputs": [
        {
          "output_type": "stream",
          "name": "stdout",
          "text": [
            "[1033.33333333]\n"
          ]
        }
      ]
    },
    {
      "cell_type": "markdown",
      "source": [
        "50cm 농어의 이웃"
      ],
      "metadata": {
        "id": "v7cwX2AMpPeh"
      }
    },
    {
      "cell_type": "code",
      "source": [
        "# 50cm 농어의 이웃을 구합니다.\n",
        "distances, indexes = knr.kneighbors([[50]])\n",
        "\n",
        "# 훈련세트의 산점도를 그립니다.\n",
        "plt.scatter(train_input, train_target)\n",
        "# 훈련세트 중에서 이웃샘플만 다시 그립니다.\n",
        "plt.scatter(train_input[indexes], train_target[indexes], marker='D') # 주황색\n",
        "\n",
        "# 50cm 농어 데이터\n",
        "plt.scatter(50,1033,marker='^') # 초록색\n",
        "plt.xlabel('length')\n",
        "plt.ylabel('weight')\n",
        "plt.show()"
      ],
      "metadata": {
        "id": "v59h5NYF_Mdp",
        "colab": {
          "base_uri": "https://localhost:8080/",
          "height": 279
        },
        "outputId": "3adca913-0cfa-4c2d-bcf9-e72b0339cdfe"
      },
      "execution_count": null,
      "outputs": [
        {
          "output_type": "display_data",
          "data": {
            "text/plain": [
              "<Figure size 432x288 with 1 Axes>"
            ],
            "image/png": "[encoded data removed]"
          },
          "metadata": {
            "needs_background": "light"
          }
        }
      ]
    },
    {
      "cell_type": "code",
      "source": [
        "# 100cm 농어의 이웃을 구합니다\n",
        "distances, indexes = knr.kneighbors([[100]])\n",
        "\n",
        "# 훈련세트의 산점도를 그립니다\n",
        "plt.scatter(train_input, train_target)\n",
        "\n",
        "# 훈련세트중에서 이웃샘플만 다시 그립니다\n",
        "plt.scatter(train_input[indexes], train_target[indexes], marker='D')\n",
        "\n",
        "# 100cm 농어 데이터\n",
        "plt.scatter(100,1033,marker='^')\n",
        "plt.xlabel('length')\n",
        "plt.ylabel('weight')\n",
        "plt.show()"
      ],
      "metadata": {
        "id": "aieN6RrH_Mbp",
        "colab": {
          "base_uri": "https://localhost:8080/",
          "height": 279
        },
        "outputId": "1b560763-a0d1-4cc7-8bff-ee6929b3172d"
      },
      "execution_count": null,
      "outputs": [
        {
          "output_type": "display_data",
          "data": {
            "text/plain": [
              "<Figure size 432x288 with 1 Axes>"
            ],
            "image/png": "[encoded data removed]"
          },
          "metadata": {
            "needs_background": "light"
          }
        }
      ]
    },
    {
      "cell_type": "code",
      "source": [
        "from sklearn.linear_model import LinearRegression\n",
        "\n",
        "lr = LinearRegression()\n",
        "# 선형 회귀 모델 훈련\n",
        "lr.fit(train_input, train_target)\n",
        "\n",
        "# 50cm 농어에 대한 예측\n",
        "print(lr.predict([[50]])) # [결과] [1241.83860323]\n",
        "print(lr.coef_,lr.intercept_) # [결과] [39.01714496] -709.0186449535477"
      ],
      "metadata": {
        "id": "-NPLM8qr_MXM",
        "colab": {
          "base_uri": "https://localhost:8080/"
        },
        "outputId": "8eb3f847-f126-4088-f70c-3d4d69fcaade"
      },
      "execution_count": null,
      "outputs": [
        {
          "output_type": "stream",
          "name": "stdout",
          "text": [
            "[1241.83860323]\n",
            "[39.01714496] -709.0186449535477\n"
          ]
        }
      ]
    },
    {
      "cell_type": "code",
      "source": [
        "# 훈련세트의 산점도를 그립니다\n",
        "plt.scatter(train_input, train_target)"
      ],
      "metadata": {
        "colab": {
          "base_uri": "https://localhost:8080/",
          "height": 283
        },
        "id": "MV0d1rHK2-jJ",
        "outputId": "1ed1a53c-1638-4f5e-df81-07ec713efd1f"
      },
      "execution_count": null,
      "outputs": [
        {
          "output_type": "execute_result",
          "data": {
            "text/plain": [
              "<matplotlib.collections.PathCollection at 0x7fadf2446cd0>"
            ]
          },
          "metadata": {},
          "execution_count": 16
        },
        {
          "output_type": "display_data",
          "data": {
            "text/plain": [
              "<Figure size 432x288 with 1 Axes>"
            ],
            "image/png": "[encoded data removed]"
          },
          "metadata": {
            "needs_background": "light"
          }
        }
      ]
    },
    {
      "cell_type": "code",
      "source": [
        "# 15에서 50까지 1차 방정식 그래프를 그립니다\n",
        "plt.plot([15,50],[15*lr.coef_+lr.intercept_, 50*lr.coef_+lr.intercept_])\n",
        "plt.show()"
      ],
      "metadata": {
        "colab": {
          "base_uri": "https://localhost:8080/",
          "height": 265
        },
        "id": "GKthGhpj8DOx",
        "outputId": "b7673066-9d38-49fa-f2cd-c40cff4e9f34"
      },
      "execution_count": null,
      "outputs": [
        {
          "output_type": "display_data",
          "data": {
            "text/plain": [
              "<Figure size 432x288 with 1 Axes>"
            ],
            "image/png": "[encoded data removed]"
          },
          "metadata": {
            "needs_background": "light"
          }
        }
      ]
    },
    {
      "cell_type": "code",
      "source": [
        "# 50cm 농어 데이터\n",
        "plt.scatter(50, 1241.8, marker='^')\n",
        "plt.show()"
      ],
      "metadata": {
        "colab": {
          "base_uri": "https://localhost:8080/",
          "height": 265
        },
        "id": "azC9VzLu2-hD",
        "outputId": "87706f1a-0182-47f2-800b-63c8efa5ea39"
      },
      "execution_count": null,
      "outputs": [
        {
          "output_type": "display_data",
          "data": {
            "text/plain": [
              "<Figure size 432x288 with 1 Axes>"
            ],
            "image/png": "[encoded data removed]"
          },
          "metadata": {
            "needs_background": "light"
          }
        }
      ]
    },
    {
      "cell_type": "code",
      "source": [
        "# 훈련세트의 산점도를 그립니다\n",
        "plt.scatter(train_input, train_target)\n",
        "\n",
        "# 15에서 50까지 1차 방정식 그래프를 그립니다\n",
        "plt.plot([15,50],[15*lr.coef_+lr.intercept_, 50*lr.coef_+lr.intercept_])\n",
        "\n",
        "# 50cm 농어 데이터\n",
        "plt.scatter(50, 1241.8, marker='^')\n",
        "plt.show()"
      ],
      "metadata": {
        "colab": {
          "base_uri": "https://localhost:8080/",
          "height": 265
        },
        "id": "sSxBajVe2-cl",
        "outputId": "741a846c-f57f-4082-ecd1-00f2abd969ec"
      },
      "execution_count": null,
      "outputs": [
        {
          "output_type": "display_data",
          "data": {
            "text/plain": [
              "<Figure size 432x288 with 1 Axes>"
            ],
            "image/png": "[encoded data removed]"
          },
          "metadata": {
            "needs_background": "light"
          }
        }
      ]
    },
    {
      "cell_type": "code",
      "source": [
        "print(lr.score(train_input, train_target))"
      ],
      "metadata": {
        "colab": {
          "base_uri": "https://localhost:8080/"
        },
        "id": "57bI41Ux2-az",
        "outputId": "97b69dec-e14b-40e9-989b-5063ad1edd36"
      },
      "execution_count": null,
      "outputs": [
        {
          "output_type": "stream",
          "name": "stdout",
          "text": [
            "0.939846333997604\n"
          ]
        }
      ]
    },
    {
      "cell_type": "code",
      "source": [
        "print(lr.score(test_input, test_target))"
      ],
      "metadata": {
        "colab": {
          "base_uri": "https://localhost:8080/"
        },
        "id": "KS4W5m5J2-YS",
        "outputId": "d68cdff1-ed57-46f5-ceea-11ec34b1225f"
      },
      "execution_count": null,
      "outputs": [
        {
          "output_type": "stream",
          "name": "stdout",
          "text": [
            "0.8247503123313558\n"
          ]
        }
      ]
    },
    {
      "cell_type": "code",
      "source": [
        "print(lr.score(train_input, train_target)) # [결과] 0.939846333997604\n",
        "print(lr.score(test_input, test_target)) # [결과] 0.8247503123313558"
      ],
      "metadata": {
        "colab": {
          "base_uri": "https://localhost:8080/"
        },
        "id": "4KpK9Z-e2-WD",
        "outputId": "4eccc0c9-60f1-4e96-946f-083e4ba35ea6"
      },
      "execution_count": null,
      "outputs": [
        {
          "output_type": "stream",
          "name": "stdout",
          "text": [
            "0.939846333997604\n",
            "0.8247503123313558\n"
          ]
        }
      ]
    },
    {
      "cell_type": "code",
      "source": [
        "plt.plot([10,20],[100,200])"
      ],
      "metadata": {
        "colab": {
          "base_uri": "https://localhost:8080/",
          "height": 283
        },
        "id": "MDjMBbrZ2-To",
        "outputId": "ae860f4b-411f-4fe8-a766-b717f7f926aa"
      },
      "execution_count": null,
      "outputs": [
        {
          "output_type": "execute_result",
          "data": {
            "text/plain": [
              "[<matplotlib.lines.Line2D at 0x7fadf229e990>]"
            ]
          },
          "metadata": {},
          "execution_count": 23
        },
        {
          "output_type": "display_data",
          "data": {
            "text/plain": [
              "<Figure size 432x288 with 1 Axes>"
            ],
            "image/png": "[encoded data removed]"
          },
          "metadata": {
            "needs_background": "light"
          }
        }
      ]
    },
    {
      "cell_type": "markdown",
      "source": [
        "# 다항회귀"
      ],
      "metadata": {
        "id": "_bEyofuJ_LbJ"
      }
    },
    {
      "cell_type": "code",
      "source": [
        "train_poly = np.column_stack((train_input**2, train_input))\n",
        "test_poly = np.column_stack((test_input**2, test_input))"
      ],
      "metadata": {
        "id": "EOt9R1VC2-Rd"
      },
      "execution_count": null,
      "outputs": []
    },
    {
      "cell_type": "markdown",
      "source": [
        "모델 다시 훈련"
      ],
      "metadata": {
        "id": "lucnT-7v_owc"
      }
    },
    {
      "cell_type": "code",
      "source": [
        "lr = LinearRegression()\n",
        "lr.fit(train_poly, train_target)\n",
        "\n",
        "print(lr.predict([[50**2, 50]])) # [결과] [1573.98423528]\n",
        "print(lr.coef_, lr.intercept_) # [결과] [  1.01433211 -21.55792498] 116.0502107827827"
      ],
      "metadata": {
        "colab": {
          "base_uri": "https://localhost:8080/"
        },
        "id": "z7ZBah9D2-PS",
        "outputId": "4f5c590f-6503-4e72-828e-34ece62c1e5f"
      },
      "execution_count": null,
      "outputs": [
        {
          "output_type": "stream",
          "name": "stdout",
          "text": [
            "[1573.98423528]\n",
            "[  1.01433211 -21.55792498] 116.0502107827827\n"
          ]
        }
      ]
    },
    {
      "cell_type": "markdown",
      "source": [
        "학습한 직선 그리기"
      ],
      "metadata": {
        "id": "gZHucCjfIHbf"
      }
    },
    {
      "cell_type": "code",
      "source": [
        "# 구간별 직선을 그리기 위해 15에서 49까지 정수 배열을 만듭니ㅏㄷ.\n",
        "point = np.arange(15,50)\n",
        "\n",
        "# 훈련 세트의 산점도를 그립니다.\n",
        "plt.scatter(train_input, train_target)\n",
        "\n",
        "# 15에서 49까지 2차 방정식 그래프를 그립니다.\n",
        "plt.plot(point, 1.01*point**2 - 21.6*point + 116.05)\n",
        "\n",
        "# 50cm 농어 데이터\n",
        "plt.scatter([50],[1574], marker='^')\n",
        "plt.show()"
      ],
      "metadata": {
        "colab": {
          "base_uri": "https://localhost:8080/",
          "height": 265
        },
        "id": "PBn_7qePG12O",
        "outputId": "06f24712-5b70-4629-d093-20cc8dd9c7f1"
      },
      "execution_count": null,
      "outputs": [
        {
          "output_type": "display_data",
          "data": {
            "text/plain": [
              "<Figure size 432x288 with 1 Axes>"
            ],
            "image/png": "[encoded data removed]"
          },
          "metadata": {
            "needs_background": "light"
          }
        }
      ]
    },
    {
      "cell_type": "code",
      "source": [
        "print(lr.score(train_poly, train_target)) # [결과] 0.9706807451768623\n",
        "print(lr.score(test_poly, test_target)) # [결과] 0.9775935108325122"
      ],
      "metadata": {
        "colab": {
          "base_uri": "https://localhost:8080/"
        },
        "id": "AEtHJa0eG4kD",
        "outputId": "43d3a62f-463f-4e49-d257-397db545412f"
      },
      "execution_count": null,
      "outputs": [
        {
          "output_type": "stream",
          "name": "stdout",
          "text": [
            "0.9706807451768623\n",
            "0.9775935108325122\n"
          ]
        }
      ]
    },
    {
      "cell_type": "markdown",
      "source": [
        "# 03-3. 특성공학과 규제"
      ],
      "metadata": {
        "id": "ELGPA1wsK_a7"
      }
    },
    {
      "cell_type": "markdown",
      "source": [
        "판다스로 데이터 준비"
      ],
      "metadata": {
        "id": "ANroaVn2NSF4"
      }
    },
    {
      "cell_type": "code",
      "source": [
        "import pandas as pd\n",
        "\n",
        "df = pd.read_csv('https://bit.ly/perch_csv')\n",
        "perch_full = df.to_numpy()\n",
        "\n",
        "print(perch_full)"
      ],
      "metadata": {
        "colab": {
          "base_uri": "https://localhost:8080/"
        },
        "id": "7mG6vNUaG4hE",
        "outputId": "95aaf5ef-38b4-4966-c2f0-5c9496ece47f"
      },
      "execution_count": null,
      "outputs": [
        {
          "output_type": "stream",
          "name": "stdout",
          "text": [
            "[[ 8.4   2.11  1.41]\n",
            " [13.7   3.53  2.  ]\n",
            " [15.    3.82  2.43]\n",
            " [16.2   4.59  2.63]\n",
            " [17.4   4.59  2.94]\n",
            " [18.    5.22  3.32]\n",
            " [18.7   5.2   3.12]\n",
            " [19.    5.64  3.05]\n",
            " [19.6   5.14  3.04]\n",
            " [20.    5.08  2.77]\n",
            " [21.    5.69  3.56]\n",
            " [21.    5.92  3.31]\n",
            " [21.    5.69  3.67]\n",
            " [21.3   6.38  3.53]\n",
            " [22.    6.11  3.41]\n",
            " [22.    5.64  3.52]\n",
            " [22.    6.11  3.52]\n",
            " [22.    5.88  3.52]\n",
            " [22.    5.52  4.  ]\n",
            " [22.5   5.86  3.62]\n",
            " [22.5   6.79  3.62]\n",
            " [22.7   5.95  3.63]\n",
            " [23.    5.22  3.63]\n",
            " [23.5   6.28  3.72]\n",
            " [24.    7.29  3.72]\n",
            " [24.    6.38  3.82]\n",
            " [24.6   6.73  4.17]\n",
            " [25.    6.44  3.68]\n",
            " [25.6   6.56  4.24]\n",
            " [26.5   7.17  4.14]\n",
            " [27.3   8.32  5.14]\n",
            " [27.5   7.17  4.34]\n",
            " [27.5   7.05  4.34]\n",
            " [27.5   7.28  4.57]\n",
            " [28.    7.82  4.2 ]\n",
            " [28.7   7.59  4.64]\n",
            " [30.    7.62  4.77]\n",
            " [32.8  10.03  6.02]\n",
            " [34.5  10.26  6.39]\n",
            " [35.   11.49  7.8 ]\n",
            " [36.5  10.88  6.86]\n",
            " [36.   10.61  6.74]\n",
            " [37.   10.84  6.26]\n",
            " [37.   10.57  6.37]\n",
            " [39.   11.14  7.49]\n",
            " [39.   11.14  6.  ]\n",
            " [39.   12.43  7.35]\n",
            " [40.   11.93  7.11]\n",
            " [40.   11.73  7.22]\n",
            " [40.   12.38  7.46]\n",
            " [40.   11.14  6.63]\n",
            " [42.   12.8   6.87]\n",
            " [43.   11.93  7.28]\n",
            " [43.   12.51  7.42]\n",
            " [43.5  12.6   8.14]\n",
            " [44.   12.49  7.6 ]]\n"
          ]
        }
      ]
    },
    {
      "cell_type": "code",
      "source": [
        "import numpy as np\n",
        "\n",
        "perch_weight = np.array([5.9, 32.0, 40.0, 51.5, 70.0, 100.0, 78.0, 80.0, 85.0, 85.0, 110.0,\n",
        "       115.0, 125.0, 130.0, 120.0, 120.0, 130.0, 135.0, 110.0, 130.0,\n",
        "       150.0, 145.0, 150.0, 170.0, 225.0, 145.0, 188.0, 180.0, 197.0,\n",
        "       218.0, 300.0, 260.0, 265.0, 250.0, 250.0, 300.0, 320.0, 514.0,\n",
        "       556.0, 840.0, 685.0, 700.0, 700.0, 690.0, 900.0, 650.0, 820.0,\n",
        "       850.0, 900.0, 1015.0, 820.0, 1100.0, 1000.0, 1100.0, 1000.0,\n",
        "       1000.0])"
      ],
      "metadata": {
        "id": "SYu6BXASpJjo"
      },
      "execution_count": null,
      "outputs": []
    },
    {
      "cell_type": "code",
      "source": [
        "from sklearn.model_selection import train_test_split\n",
        "\n",
        "# 1차원 배열로 넣었으므로 1차원 배열로 나옴! (2차원이면 2차원으로)\n",
        "train_input, test_input, train_target, test_target = train_test_split(perch_full, perch_weight, random_state=42)"
      ],
      "metadata": {
        "id": "8AABojDkpJUJ"
      },
      "execution_count": null,
      "outputs": []
    },
    {
      "cell_type": "markdown",
      "source": [
        "다항특성 만들기"
      ],
      "metadata": {
        "id": "Gm8gy07LT4tO"
      }
    },
    {
      "cell_type": "code",
      "source": [
        "from sklearn.preprocessing import PolynomialFeatures\n",
        "\n",
        "# degree=2\n",
        "poly = PolynomialFeatures()\n",
        "poly.fit([[2,3]])\n",
        "\n",
        "# 1(bias), 2, 3, 2**2, 2*3, 3**2\n",
        "print(poly.transform([[2,3]]))\n",
        "# [결과] [[1. 2. 3. 4. 6. 9.]]"
      ],
      "metadata": {
        "colab": {
          "base_uri": "https://localhost:8080/"
        },
        "id": "m-N8zgBMG4ei",
        "outputId": "9e3f4a9b-6780-4bde-94b3-04e08d99cc87"
      },
      "execution_count": null,
      "outputs": [
        {
          "output_type": "stream",
          "name": "stdout",
          "text": [
            "[[1. 2. 3. 4. 6. 9.]]\n"
          ]
        }
      ]
    },
    {
      "cell_type": "code",
      "source": [
        "poly = PolynomialFeatures(include_bias=False) # 절편에 대한 특성을 빼기 위해 (include_bias=False)\n",
        "poly.fit([[2,3]])\n",
        "print(poly.transform([[2,3]]))\n",
        "# [결과] [[2. 3. 4. 6. 9.]]"
      ],
      "metadata": {
        "colab": {
          "base_uri": "https://localhost:8080/"
        },
        "id": "W7ul_XwvozhJ",
        "outputId": "3490f5df-350f-4d11-d6df-78c56867f3d0"
      },
      "execution_count": null,
      "outputs": [
        {
          "output_type": "stream",
          "name": "stdout",
          "text": [
            "[[2. 3. 4. 6. 9.]]\n"
          ]
        }
      ]
    },
    {
      "cell_type": "markdown",
      "source": [
        "LinearRegression"
      ],
      "metadata": {
        "id": "p0Vlej2hWD3R"
      }
    },
    {
      "cell_type": "code",
      "source": [
        "train_input"
      ],
      "metadata": {
        "colab": {
          "base_uri": "https://localhost:8080/"
        },
        "id": "tRoVD-ngpEHG",
        "outputId": "5f312285-0455-4b93-d0fc-8846a0c9c1f8"
      },
      "execution_count": null,
      "outputs": [
        {
          "output_type": "execute_result",
          "data": {
            "text/plain": [
              "array([[19.6 ,  5.14,  3.04],\n",
              "       [22.  ,  5.88,  3.52],\n",
              "       [18.7 ,  5.2 ,  3.12],\n",
              "       [17.4 ,  4.59,  2.94],\n",
              "       [36.  , 10.61,  6.74],\n",
              "       [25.  ,  6.44,  3.68],\n",
              "       [40.  , 11.93,  7.11],\n",
              "       [39.  , 12.43,  7.35],\n",
              "       [43.  , 11.93,  7.28],\n",
              "       [22.  ,  5.64,  3.52],\n",
              "       [20.  ,  5.08,  2.77],\n",
              "       [22.  ,  6.11,  3.52],\n",
              "       [24.  ,  7.29,  3.72],\n",
              "       [27.5 ,  7.17,  4.34],\n",
              "       [43.  , 12.51,  7.42],\n",
              "       [40.  , 11.73,  7.22],\n",
              "       [24.  ,  6.38,  3.82],\n",
              "       [21.  ,  5.92,  3.31],\n",
              "       [27.5 ,  7.05,  4.34],\n",
              "       [40.  , 12.38,  7.46],\n",
              "       [32.8 , 10.03,  6.02],\n",
              "       [26.5 ,  7.17,  4.14],\n",
              "       [36.5 , 10.88,  6.86],\n",
              "       [13.7 ,  3.53,  2.  ],\n",
              "       [22.7 ,  5.95,  3.63],\n",
              "       [15.  ,  3.82,  2.43],\n",
              "       [37.  , 10.57,  6.37],\n",
              "       [35.  , 11.49,  7.8 ],\n",
              "       [28.7 ,  7.59,  4.64],\n",
              "       [23.5 ,  6.28,  3.72],\n",
              "       [39.  , 11.14,  6.  ],\n",
              "       [21.  ,  5.69,  3.56],\n",
              "       [23.  ,  5.22,  3.63],\n",
              "       [22.  ,  5.52,  4.  ],\n",
              "       [44.  , 12.49,  7.6 ],\n",
              "       [22.5 ,  6.79,  3.62],\n",
              "       [19.  ,  5.64,  3.05],\n",
              "       [37.  , 10.84,  6.26],\n",
              "       [22.  ,  6.11,  3.41],\n",
              "       [25.6 ,  6.56,  4.24],\n",
              "       [42.  , 12.8 ,  6.87],\n",
              "       [34.5 , 10.26,  6.39]])"
            ]
          },
          "metadata": {},
          "execution_count": 33
        }
      ]
    },
    {
      "cell_type": "code",
      "source": [
        "poly = PolynomialFeatures(include_bias=False)\n",
        "\n",
        "poly.fit(train_input)\n",
        "train_poly = poly.transform(train_input)\n",
        "\n",
        "print(train_poly.shape)\n",
        "# [결과] (42, 9)"
      ],
      "metadata": {
        "colab": {
          "base_uri": "https://localhost:8080/"
        },
        "id": "0-u4K7vJG4cR",
        "outputId": "9fa95cf6-edbe-4089-cf25-163855f9f6d5"
      },
      "execution_count": null,
      "outputs": [
        {
          "output_type": "stream",
          "name": "stdout",
          "text": [
            "(42, 9)\n"
          ]
        }
      ]
    },
    {
      "cell_type": "code",
      "source": [
        "poly.get_feature_names()\n",
        "# [결과] ['x0', 'x1', 'x2', 'x0^2', 'x0 x1', 'x0 x2', 'x1^2', 'x1 x2', 'x2^2']"
      ],
      "metadata": {
        "colab": {
          "base_uri": "https://localhost:8080/"
        },
        "id": "D5SiU76RG4Z7",
        "outputId": "19088f8f-f7ea-4b77-b435-77b50092798e"
      },
      "execution_count": null,
      "outputs": [
        {
          "output_type": "stream",
          "name": "stderr",
          "text": [
            "/usr/local/lib/python3.7/dist-packages/sklearn/utils/deprecation.py:87: FutureWarning: Function get_feature_names is deprecated; get_feature_names is deprecated in 1.0 and will be removed in 1.2. Please use get_feature_names_out instead.\n",
            "  warnings.warn(msg, category=FutureWarning)\n"
          ]
        },
        {
          "output_type": "execute_result",
          "data": {
            "text/plain": [
              "['x0', 'x1', 'x2', 'x0^2', 'x0 x1', 'x0 x2', 'x1^2', 'x1 x2', 'x2^2']"
            ]
          },
          "metadata": {},
          "execution_count": 35
        }
      ]
    },
    {
      "cell_type": "code",
      "source": [
        "train_poly"
      ],
      "metadata": {
        "colab": {
          "base_uri": "https://localhost:8080/"
        },
        "id": "QiEwLRrWn0l6",
        "outputId": "a2eeeec8-51c9-4153-d5cb-5c1b532a34e7"
      },
      "execution_count": null,
      "outputs": [
        {
          "output_type": "execute_result",
          "data": {
            "text/plain": [
              "array([[  19.6   ,    5.14  ,    3.04  ,  384.16  ,  100.744 ,   59.584 ,\n",
              "          26.4196,   15.6256,    9.2416],\n",
              "       [  22.    ,    5.88  ,    3.52  ,  484.    ,  129.36  ,   77.44  ,\n",
              "          34.5744,   20.6976,   12.3904],\n",
              "       [  18.7   ,    5.2   ,    3.12  ,  349.69  ,   97.24  ,   58.344 ,\n",
              "          27.04  ,   16.224 ,    9.7344],\n",
              "       [  17.4   ,    4.59  ,    2.94  ,  302.76  ,   79.866 ,   51.156 ,\n",
              "          21.0681,   13.4946,    8.6436],\n",
              "       [  36.    ,   10.61  ,    6.74  , 1296.    ,  381.96  ,  242.64  ,\n",
              "         112.5721,   71.5114,   45.4276],\n",
              "       [  25.    ,    6.44  ,    3.68  ,  625.    ,  161.    ,   92.    ,\n",
              "          41.4736,   23.6992,   13.5424],\n",
              "       [  40.    ,   11.93  ,    7.11  , 1600.    ,  477.2   ,  284.4   ,\n",
              "         142.3249,   84.8223,   50.5521],\n",
              "       [  39.    ,   12.43  ,    7.35  , 1521.    ,  484.77  ,  286.65  ,\n",
              "         154.5049,   91.3605,   54.0225],\n",
              "       [  43.    ,   11.93  ,    7.28  , 1849.    ,  512.99  ,  313.04  ,\n",
              "         142.3249,   86.8504,   52.9984],\n",
              "       [  22.    ,    5.64  ,    3.52  ,  484.    ,  124.08  ,   77.44  ,\n",
              "          31.8096,   19.8528,   12.3904],\n",
              "       [  20.    ,    5.08  ,    2.77  ,  400.    ,  101.6   ,   55.4   ,\n",
              "          25.8064,   14.0716,    7.6729],\n",
              "       [  22.    ,    6.11  ,    3.52  ,  484.    ,  134.42  ,   77.44  ,\n",
              "          37.3321,   21.5072,   12.3904],\n",
              "       [  24.    ,    7.29  ,    3.72  ,  576.    ,  174.96  ,   89.28  ,\n",
              "          53.1441,   27.1188,   13.8384],\n",
              "       [  27.5   ,    7.17  ,    4.34  ,  756.25  ,  197.175 ,  119.35  ,\n",
              "          51.4089,   31.1178,   18.8356],\n",
              "       [  43.    ,   12.51  ,    7.42  , 1849.    ,  537.93  ,  319.06  ,\n",
              "         156.5001,   92.8242,   55.0564],\n",
              "       [  40.    ,   11.73  ,    7.22  , 1600.    ,  469.2   ,  288.8   ,\n",
              "         137.5929,   84.6906,   52.1284],\n",
              "       [  24.    ,    6.38  ,    3.82  ,  576.    ,  153.12  ,   91.68  ,\n",
              "          40.7044,   24.3716,   14.5924],\n",
              "       [  21.    ,    5.92  ,    3.31  ,  441.    ,  124.32  ,   69.51  ,\n",
              "          35.0464,   19.5952,   10.9561],\n",
              "       [  27.5   ,    7.05  ,    4.34  ,  756.25  ,  193.875 ,  119.35  ,\n",
              "          49.7025,   30.597 ,   18.8356],\n",
              "       [  40.    ,   12.38  ,    7.46  , 1600.    ,  495.2   ,  298.4   ,\n",
              "         153.2644,   92.3548,   55.6516],\n",
              "       [  32.8   ,   10.03  ,    6.02  , 1075.84  ,  328.984 ,  197.456 ,\n",
              "         100.6009,   60.3806,   36.2404],\n",
              "       [  26.5   ,    7.17  ,    4.14  ,  702.25  ,  190.005 ,  109.71  ,\n",
              "          51.4089,   29.6838,   17.1396],\n",
              "       [  36.5   ,   10.88  ,    6.86  , 1332.25  ,  397.12  ,  250.39  ,\n",
              "         118.3744,   74.6368,   47.0596],\n",
              "       [  13.7   ,    3.53  ,    2.    ,  187.69  ,   48.361 ,   27.4   ,\n",
              "          12.4609,    7.06  ,    4.    ],\n",
              "       [  22.7   ,    5.95  ,    3.63  ,  515.29  ,  135.065 ,   82.401 ,\n",
              "          35.4025,   21.5985,   13.1769],\n",
              "       [  15.    ,    3.82  ,    2.43  ,  225.    ,   57.3   ,   36.45  ,\n",
              "          14.5924,    9.2826,    5.9049],\n",
              "       [  37.    ,   10.57  ,    6.37  , 1369.    ,  391.09  ,  235.69  ,\n",
              "         111.7249,   67.3309,   40.5769],\n",
              "       [  35.    ,   11.49  ,    7.8   , 1225.    ,  402.15  ,  273.    ,\n",
              "         132.0201,   89.622 ,   60.84  ],\n",
              "       [  28.7   ,    7.59  ,    4.64  ,  823.69  ,  217.833 ,  133.168 ,\n",
              "          57.6081,   35.2176,   21.5296],\n",
              "       [  23.5   ,    6.28  ,    3.72  ,  552.25  ,  147.58  ,   87.42  ,\n",
              "          39.4384,   23.3616,   13.8384],\n",
              "       [  39.    ,   11.14  ,    6.    , 1521.    ,  434.46  ,  234.    ,\n",
              "         124.0996,   66.84  ,   36.    ],\n",
              "       [  21.    ,    5.69  ,    3.56  ,  441.    ,  119.49  ,   74.76  ,\n",
              "          32.3761,   20.2564,   12.6736],\n",
              "       [  23.    ,    5.22  ,    3.63  ,  529.    ,  120.06  ,   83.49  ,\n",
              "          27.2484,   18.9486,   13.1769],\n",
              "       [  22.    ,    5.52  ,    4.    ,  484.    ,  121.44  ,   88.    ,\n",
              "          30.4704,   22.08  ,   16.    ],\n",
              "       [  44.    ,   12.49  ,    7.6   , 1936.    ,  549.56  ,  334.4   ,\n",
              "         156.0001,   94.924 ,   57.76  ],\n",
              "       [  22.5   ,    6.79  ,    3.62  ,  506.25  ,  152.775 ,   81.45  ,\n",
              "          46.1041,   24.5798,   13.1044],\n",
              "       [  19.    ,    5.64  ,    3.05  ,  361.    ,  107.16  ,   57.95  ,\n",
              "          31.8096,   17.202 ,    9.3025],\n",
              "       [  37.    ,   10.84  ,    6.26  , 1369.    ,  401.08  ,  231.62  ,\n",
              "         117.5056,   67.8584,   39.1876],\n",
              "       [  22.    ,    6.11  ,    3.41  ,  484.    ,  134.42  ,   75.02  ,\n",
              "          37.3321,   20.8351,   11.6281],\n",
              "       [  25.6   ,    6.56  ,    4.24  ,  655.36  ,  167.936 ,  108.544 ,\n",
              "          43.0336,   27.8144,   17.9776],\n",
              "       [  42.    ,   12.8   ,    6.87  , 1764.    ,  537.6   ,  288.54  ,\n",
              "         163.84  ,   87.936 ,   47.1969],\n",
              "       [  34.5   ,   10.26  ,    6.39  , 1190.25  ,  353.97  ,  220.455 ,\n",
              "         105.2676,   65.5614,   40.8321]])"
            ]
          },
          "metadata": {},
          "execution_count": 36
        }
      ]
    },
    {
      "cell_type": "code",
      "source": [
        "test_poly"
      ],
      "metadata": {
        "colab": {
          "base_uri": "https://localhost:8080/"
        },
        "id": "PxMzXWmZqcoq",
        "outputId": "d60e278d-6a45-4146-e432-102fa8643fd8"
      },
      "execution_count": null,
      "outputs": [
        {
          "output_type": "execute_result",
          "data": {
            "text/plain": [
              "array([[  70.56,    8.4 ],\n",
              "       [ 324.  ,   18.  ],\n",
              "       [ 756.25,   27.5 ],\n",
              "       [ 453.69,   21.3 ],\n",
              "       [ 506.25,   22.5 ],\n",
              "       [1600.  ,   40.  ],\n",
              "       [ 900.  ,   30.  ],\n",
              "       [ 605.16,   24.6 ],\n",
              "       [1521.  ,   39.  ],\n",
              "       [ 441.  ,   21.  ],\n",
              "       [1892.25,   43.5 ],\n",
              "       [ 262.44,   16.2 ],\n",
              "       [ 784.  ,   28.  ],\n",
              "       [ 745.29,   27.3 ]])"
            ]
          },
          "metadata": {},
          "execution_count": 37
        }
      ]
    },
    {
      "cell_type": "code",
      "source": [
        "test_poly = poly.transform(test_input)"
      ],
      "metadata": {
        "id": "O0O-yB_bG4Xx"
      },
      "execution_count": null,
      "outputs": []
    },
    {
      "cell_type": "code",
      "source": [
        "test_poly"
      ],
      "metadata": {
        "colab": {
          "base_uri": "https://localhost:8080/"
        },
        "id": "-cVUXcMAqZhC",
        "outputId": "3eea1dde-4407-49f4-b8f7-56e6acb70b7c"
      },
      "execution_count": null,
      "outputs": [
        {
          "output_type": "execute_result",
          "data": {
            "text/plain": [
              "array([[8.400000e+00, 2.110000e+00, 1.410000e+00, 7.056000e+01,\n",
              "        1.772400e+01, 1.184400e+01, 4.452100e+00, 2.975100e+00,\n",
              "        1.988100e+00],\n",
              "       [1.800000e+01, 5.220000e+00, 3.320000e+00, 3.240000e+02,\n",
              "        9.396000e+01, 5.976000e+01, 2.724840e+01, 1.733040e+01,\n",
              "        1.102240e+01],\n",
              "       [2.750000e+01, 7.280000e+00, 4.570000e+00, 7.562500e+02,\n",
              "        2.002000e+02, 1.256750e+02, 5.299840e+01, 3.326960e+01,\n",
              "        2.088490e+01],\n",
              "       [2.130000e+01, 6.380000e+00, 3.530000e+00, 4.536900e+02,\n",
              "        1.358940e+02, 7.518900e+01, 4.070440e+01, 2.252140e+01,\n",
              "        1.246090e+01],\n",
              "       [2.250000e+01, 5.860000e+00, 3.620000e+00, 5.062500e+02,\n",
              "        1.318500e+02, 8.145000e+01, 3.433960e+01, 2.121320e+01,\n",
              "        1.310440e+01],\n",
              "       [4.000000e+01, 1.114000e+01, 6.630000e+00, 1.600000e+03,\n",
              "        4.456000e+02, 2.652000e+02, 1.240996e+02, 7.385820e+01,\n",
              "        4.395690e+01],\n",
              "       [3.000000e+01, 7.620000e+00, 4.770000e+00, 9.000000e+02,\n",
              "        2.286000e+02, 1.431000e+02, 5.806440e+01, 3.634740e+01,\n",
              "        2.275290e+01],\n",
              "       [2.460000e+01, 6.730000e+00, 4.170000e+00, 6.051600e+02,\n",
              "        1.655580e+02, 1.025820e+02, 4.529290e+01, 2.806410e+01,\n",
              "        1.738890e+01],\n",
              "       [3.900000e+01, 1.114000e+01, 7.490000e+00, 1.521000e+03,\n",
              "        4.344600e+02, 2.921100e+02, 1.240996e+02, 8.343860e+01,\n",
              "        5.610010e+01],\n",
              "       [2.100000e+01, 5.690000e+00, 3.670000e+00, 4.410000e+02,\n",
              "        1.194900e+02, 7.707000e+01, 3.237610e+01, 2.088230e+01,\n",
              "        1.346890e+01],\n",
              "       [4.350000e+01, 1.260000e+01, 8.140000e+00, 1.892250e+03,\n",
              "        5.481000e+02, 3.540900e+02, 1.587600e+02, 1.025640e+02,\n",
              "        6.625960e+01],\n",
              "       [1.620000e+01, 4.590000e+00, 2.630000e+00, 2.624400e+02,\n",
              "        7.435800e+01, 4.260600e+01, 2.106810e+01, 1.207170e+01,\n",
              "        6.916900e+00],\n",
              "       [2.800000e+01, 7.820000e+00, 4.200000e+00, 7.840000e+02,\n",
              "        2.189600e+02, 1.176000e+02, 6.115240e+01, 3.284400e+01,\n",
              "        1.764000e+01],\n",
              "       [2.730000e+01, 8.320000e+00, 5.140000e+00, 7.452900e+02,\n",
              "        2.271360e+02, 1.403220e+02, 6.922240e+01, 4.276480e+01,\n",
              "        2.641960e+01]])"
            ]
          },
          "metadata": {},
          "execution_count": 39
        }
      ]
    },
    {
      "cell_type": "code",
      "source": [
        "from sklearn.linear_model import LinearRegression\n",
        "\n",
        "lr = LinearRegression()\n",
        "lr.fit(train_poly, train_target)\n",
        "\n",
        "print(lr.score(train_poly, train_target)) # [결과] 0.9903183436982124\n",
        "print(lr.score(test_poly, test_target)) # [결과] 0.9714559911594134"
      ],
      "metadata": {
        "colab": {
          "base_uri": "https://localhost:8080/"
        },
        "id": "vNLbeSwnG4Vj",
        "outputId": "84583f86-04bd-4b3e-8395-34a205120b18"
      },
      "execution_count": null,
      "outputs": [
        {
          "output_type": "stream",
          "name": "stdout",
          "text": [
            "0.9903183436982124\n",
            "0.9714559911594134\n"
          ]
        }
      ]
    },
    {
      "cell_type": "markdown",
      "source": [
        "더 많은 특성 만들기"
      ],
      "metadata": {
        "id": "MobcNiS6pQpo"
      }
    },
    {
      "cell_type": "code",
      "source": [
        "poly = PolynomialFeatures(degree=5, include_bias=False)\n",
        "\n",
        "poly.fit(train_input)\n",
        "train_poly = poly.transform(train_input)\n",
        "test_poly = poly.transform(test_input)\n",
        "\n",
        "print(train_poly.shape) #[결과] (42, 55)"
      ],
      "metadata": {
        "colab": {
          "base_uri": "https://localhost:8080/"
        },
        "id": "5QQDLUlgqSYy",
        "outputId": "5c480ab0-7a2c-4964-86b5-a7de63b22235"
      },
      "execution_count": null,
      "outputs": [
        {
          "output_type": "stream",
          "name": "stdout",
          "text": [
            "(42, 55)\n"
          ]
        }
      ]
    },
    {
      "cell_type": "code",
      "source": [
        "lr.fit(train_poly, train_target)\n",
        "\n",
        "print(lr.score(train_poly, train_target)) # [결과] 0.9999999999991097\n",
        "print(lr.score(test_poly, test_target)) # [결과] -144.40579242684848"
      ],
      "metadata": {
        "colab": {
          "base_uri": "https://localhost:8080/"
        },
        "id": "lom5Avf8qSW2",
        "outputId": "6ee8984e-2cdf-46da-bc83-bf7f7defe407"
      },
      "execution_count": null,
      "outputs": [
        {
          "output_type": "stream",
          "name": "stdout",
          "text": [
            "0.9999999999991097\n",
            "-144.40579242684848\n"
          ]
        }
      ]
    },
    {
      "cell_type": "markdown",
      "source": [
        "규제 전에 표준화"
      ],
      "metadata": {
        "id": "B-sRvaJPtWR0"
      }
    },
    {
      "cell_type": "code",
      "source": [
        "from sklearn.preprocessing import StandardScaler\n",
        "\n",
        "ss = StandardScaler()\n",
        "ss.fit(train_poly)\n",
        "\n",
        "train_scaled = ss.transform(train_poly)\n",
        "test_scaled = ss.transform(test_poly)"
      ],
      "metadata": {
        "id": "DHUeI6_ttWCe"
      },
      "execution_count": null,
      "outputs": []
    },
    {
      "cell_type": "markdown",
      "source": [
        "### 릿지 회귀"
      ],
      "metadata": {
        "id": "9YMnX2kluwII"
      }
    },
    {
      "cell_type": "code",
      "source": [
        "from sklearn.linear_model import Ridge\n",
        "\n",
        "ridge = Ridge()\n",
        "ridge.fit(train_scaled, train_target)\n",
        "\n",
        "print(ridge.score(train_scaled, train_target)) # [결과] 0.9896101671037343\n",
        "print(ridge.score(test_scaled, test_target)) # [결과] 0.9790693977615397"
      ],
      "metadata": {
        "colab": {
          "base_uri": "https://localhost:8080/"
        },
        "id": "Ho9hmCXvrm7y",
        "outputId": "2bc346b1-a5b4-43c3-a2c5-1c3de1d3dbd4"
      },
      "execution_count": null,
      "outputs": [
        {
          "output_type": "stream",
          "name": "stdout",
          "text": [
            "0.9896101671037343\n",
            "0.9790693977615397\n"
          ]
        }
      ]
    },
    {
      "cell_type": "markdown",
      "source": [
        "적절한 규제 강도 찾기"
      ],
      "metadata": {
        "id": "kUWhJXd5w70Q"
      }
    },
    {
      "cell_type": "code",
      "source": [
        "import matplotlib.pyplot as plt\n",
        "\n",
        "train_score = []\n",
        "test_score = []"
      ],
      "metadata": {
        "id": "EMuTVjxNrm3-"
      },
      "execution_count": null,
      "outputs": []
    },
    {
      "cell_type": "code",
      "source": [
        "alpha_list = [0.001, 0.01, 0.1, 1, 10, 100]\n",
        "for alpha in alpha_list:\n",
        "  # 릿지 모델을 만듭니다\n",
        "  ridge = Ridge(alpha=alpha)\n",
        "  # 릿지 모델을 훈련합니다\n",
        "  ridge.fit(train_scaled, train_target)\n",
        "  # 훈련 점수와 테스트 점수를 저장합니다\n",
        "  train_score.append(ridge.score(train_scaled, train_target))\n",
        "  test_score.append(ridge.score(test_scaled, test_target))"
      ],
      "metadata": {
        "id": "5WqcWdc3rmw9"
      },
      "execution_count": null,
      "outputs": []
    },
    {
      "cell_type": "code",
      "source": [
        "plt.plot(np.log10(alpha_list), train_score)\n",
        "plt.plot(np.log10(alpha_list), test_score)\n",
        "plt.xlabel('alpha')\n",
        "plt.ylabel('R^2')\n",
        "plt.show()"
      ],
      "metadata": {
        "colab": {
          "base_uri": "https://localhost:8080/",
          "height": 279
        },
        "id": "Kk5vq-fGrmsc",
        "outputId": "d7a6abbb-e08d-48d1-ff81-80c28cffbcf6"
      },
      "execution_count": null,
      "outputs": [
        {
          "output_type": "display_data",
          "data": {
            "text/plain": [
              "<Figure size 432x288 with 1 Axes>"
            ],
            "image/png": "[encoded data removed]"
          },
          "metadata": {
            "needs_background": "light"
          }
        }
      ]
    },
    {
      "cell_type": "code",
      "source": [
        "ridge = Ridge(alpha=0.1)\n",
        "ridge.fit(train_scaled, train_target)\n",
        "\n",
        "print(ridge.score(train_scaled, train_target)) # [결과] 0.9903815817570366\n",
        "print(ridge.score(test_scaled, test_target)) # [결과] 0.9827976465386926"
      ],
      "metadata": {
        "colab": {
          "base_uri": "https://localhost:8080/"
        },
        "id": "72zmdWdGrmqK",
        "outputId": "9b3785ab-4dc9-4435-f5df-6567d0b2dacb"
      },
      "execution_count": null,
      "outputs": [
        {
          "output_type": "stream",
          "name": "stdout",
          "text": [
            "0.9903815817570366\n",
            "0.9827976465386926\n"
          ]
        }
      ]
    },
    {
      "cell_type": "markdown",
      "source": [
        "### 라쏘 회귀"
      ],
      "metadata": {
        "id": "xcMjFmiDy8iy"
      }
    },
    {
      "cell_type": "code",
      "source": [
        "from sklearn.linear_model import Lasso\n",
        "\n",
        "lasso = Lasso()\n",
        "lasso.fit(train_scaled, train_target)\n",
        "\n",
        "print(lasso.score(train_scaled, train_target)) # [결과] 0.989789897208096\n",
        "print(lasso.score(test_scaled, test_target)) # [결과] 0.9800593698421883"
      ],
      "metadata": {
        "colab": {
          "base_uri": "https://localhost:8080/"
        },
        "id": "ACe-s0CBvKNh",
        "outputId": "3744ee44-9a28-4348-e15e-1f4b801d3f10"
      },
      "execution_count": null,
      "outputs": [
        {
          "output_type": "stream",
          "name": "stdout",
          "text": [
            "0.989789897208096\n",
            "0.9800593698421883\n"
          ]
        }
      ]
    },
    {
      "cell_type": "markdown",
      "source": [
        "적절한 규제 강도 찾기"
      ],
      "metadata": {
        "id": "mav8iX9NzWZw"
      }
    },
    {
      "cell_type": "code",
      "source": [
        "import matplotlib.pyplot as plt\n",
        "train_score = []\n",
        "test_score = []\n",
        "\n",
        "alpha_list = [0.001, 0.01, 0.1, 1, 10, 100] # 로그범위로(관례임!)\n",
        "for alpha in alpha_list:\n",
        "  # 라쏘 모델을 만듭니다\n",
        "  lasso = Lasso(alpha=alpha, max_iter=10000)\n",
        "  # 라쏘 모델을 훈련합니다\n",
        "  lasso.fit(train_scaled, train_target)\n",
        "  # 훈련 점수와 테스트 점수를 저장합니다\n",
        "  train_score.append(lasso.score(train_scaled, train_target))\n",
        "  test_score.append(lasso.score(test_scaled, test_target))"
      ],
      "metadata": {
        "colab": {
          "base_uri": "https://localhost:8080/"
        },
        "id": "YcxCwDW8vKK7",
        "outputId": "ed4e26ba-15e5-49f4-a13a-d92d138918c4"
      },
      "execution_count": null,
      "outputs": [
        {
          "output_type": "stream",
          "name": "stderr",
          "text": [
            "/usr/local/lib/python3.7/dist-packages/sklearn/linear_model/_coordinate_descent.py:648: ConvergenceWarning: Objective did not converge. You might want to increase the number of iterations, check the scale of the features or consider increasing regularisation. Duality gap: 1.878e+04, tolerance: 5.183e+02\n",
            "  coef_, l1_reg, l2_reg, X, y, max_iter, tol, rng, random, positive\n",
            "/usr/local/lib/python3.7/dist-packages/sklearn/linear_model/_coordinate_descent.py:648: ConvergenceWarning: Objective did not converge. You might want to increase the number of iterations, check the scale of the features or consider increasing regularisation. Duality gap: 1.297e+04, tolerance: 5.183e+02\n",
            "  coef_, l1_reg, l2_reg, X, y, max_iter, tol, rng, random, positive\n"
          ]
        }
      ]
    },
    {
      "cell_type": "code",
      "source": [
        "plt.plot(np.log10(alpha_list), train_score)\n",
        "plt.plot(np.log10(alpha_list), test_score)\n",
        "plt.xlabel('alpha')\n",
        "plt.ylabel('R^2')\n",
        "plt.show()"
      ],
      "metadata": {
        "colab": {
          "base_uri": "https://localhost:8080/",
          "height": 279
        },
        "id": "p98cJqI_vKIj",
        "outputId": "6d4b65e5-352c-413b-e1ea-02755624cf6a"
      },
      "execution_count": null,
      "outputs": [
        {
          "output_type": "display_data",
          "data": {
            "text/plain": [
              "<Figure size 432x288 with 1 Axes>"
            ],
            "image/png": "[encoded data removed]"
          },
          "metadata": {
            "needs_background": "light"
          }
        }
      ]
    },
    {
      "cell_type": "code",
      "source": [
        "lasso = Lasso(alpha=10)\n",
        "lasso.fit(train_scaled, train_target)\n",
        "\n",
        "print(lasso.score(train_scaled, train_target)) # [결과] 0.9888067471131867\n",
        "print(lasso.score(test_scaled, test_target)) # [결과] 0.9824470598706695"
      ],
      "metadata": {
        "colab": {
          "base_uri": "https://localhost:8080/"
        },
        "id": "PxcA12NDvKDl",
        "outputId": "f54dd48a-eeae-4b20-fae3-2d688998dde6"
      },
      "execution_count": null,
      "outputs": [
        {
          "output_type": "stream",
          "name": "stdout",
          "text": [
            "0.9888067471131867\n",
            "0.9824470598706695\n"
          ]
        }
      ]
    },
    {
      "cell_type": "code",
      "source": [
        "print(np.sum(lasso.coef_==0))"
      ],
      "metadata": {
        "id": "vHdH64Dh0qrl",
        "outputId": "34412887-6a8e-48ea-ae7b-36eee922265e",
        "colab": {
          "base_uri": "https://localhost:8080/"
        }
      },
      "execution_count": null,
      "outputs": [
        {
          "output_type": "stream",
          "name": "stdout",
          "text": [
            "40\n"
          ]
        }
      ]
    },
    {
      "cell_type": "code",
      "source": [
        ""
      ],
      "metadata": {
        "id": "q8hDYJRv0qoH"
      },
      "execution_count": null,
      "outputs": []
    },
    {
      "cell_type": "code",
      "source": [
        ""
      ],
      "metadata": {
        "id": "VhA-_zTR0qlv"
      },
      "execution_count": null,
      "outputs": []
    },
    {
      "cell_type": "code",
      "source": [
        ""
      ],
      "metadata": {
        "id": "y0cOwLF00qfW"
      },
      "execution_count": null,
      "outputs": []
    },
    {
      "cell_type": "code",
      "source": [
        ""
      ],
      "metadata": {
        "id": "NcxMuzGv0qaw"
      },
      "execution_count": null,
      "outputs": []
    }
  ]
}