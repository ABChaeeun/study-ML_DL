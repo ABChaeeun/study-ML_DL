{
  "nbformat": 4,
  "nbformat_minor": 0,
  "metadata": {
    "colab": {
      "name": "[혼자공부하는머신러닝딥러닝]_01-3. 마켓과 머신러닝+02-1. 훈련세트와 테스트세트+02-2. 데이터 전처리.ipynb",
      "provenance": [],
      "collapsed_sections": [],
      "authorship_tag": "ABX9TyPCWZ6GrHWFrUGMse0hSW++",
      "include_colab_link": true
    },
    "kernelspec": {
      "name": "python3",
      "display_name": "Python 3"
    },
    "language_info": {
      "name": "python"
    }
  },
  "cells": [
    {
      "cell_type": "markdown",
      "metadata": {
        "id": "view-in-github",
        "colab_type": "text"
      },
      "source": [
        "<a href=\"https://colab.research.google.com/github/ABChaeeun/study-ML_DL/blob/master/%5B%ED%98%BC%EC%9E%90%EA%B3%B5%EB%B6%80%ED%95%98%EB%8A%94%EB%A8%B8%EC%8B%A0%EB%9F%AC%EB%8B%9D%EB%94%A5%EB%9F%AC%EB%8B%9D%5D_01_3_%EB%A7%88%EC%BC%93%EA%B3%BC_%EB%A8%B8%EC%8B%A0%EB%9F%AC%EB%8B%9D%2B02_1_%ED%9B%88%EB%A0%A8%EC%84%B8%ED%8A%B8%EC%99%80_%ED%85%8C%EC%8A%A4%ED%8A%B8%EC%84%B8%ED%8A%B8%2B02_2_%EB%8D%B0%EC%9D%B4%ED%84%B0_%EC%A0%84%EC%B2%98%EB%A6%AC.ipynb\" target=\"_parent\"><img src=\"https://colab.research.google.com/assets/colab-badge.svg\" alt=\"Open In Colab\"/></a>"
      ]
    },
    {
      "cell_type": "code",
      "source": [
        "import sklearn"
      ],
      "metadata": {
        "id": "nGinXzaugZog"
      },
      "execution_count": null,
      "outputs": []
    },
    {
      "cell_type": "code",
      "source": [
        "import tensorflow"
      ],
      "metadata": {
        "id": "WFpbiDd9gfHo"
      },
      "execution_count": null,
      "outputs": []
    },
    {
      "cell_type": "markdown",
      "source": [
        "### 도미데이터와와 빙어데이터 생성하기"
      ],
      "metadata": {
        "id": "Ea6GnHdI6cb0"
      }
    },
    {
      "cell_type": "code",
      "source": [
        "bream_length = [25.4, 26.3, 26.5, 29.0, 29.0, 29.7, 29.7, 30.0, 30.0, 30.7, \n",
        "                31.0, 31.0, 31.5, 32.0, 32.0, 32.0, 33.0, 33.0, 33.5, 33.5, \n",
        "                34.0, 34.0, 34.5, 35.0, 35.0, 35.0, 35.0, 36.0, 36.0, 37.0, \n",
        "                38.5, 38.5, 39.5, 41.0, 41.0]\n",
        "\n",
        "bream_weight = [242.0, 290.0, 340.0, 363.0, 430.0, 450.0, 500.0, 390.0, \n",
        "                450.0, 500.0, 475.0, 500.0, 500.0, 340.0, 600.0, 600.0, \n",
        "                700.0, 700.0, 610.0, 650.0, 575.0, 685.0, 620.0, 680.0, \n",
        "                700.0, 725.0, 720.0, 714.0, 850.0, 1000.0, 920.0, 955.0, \n",
        "                925.0, 975.0, 950.0]"
      ],
      "metadata": {
        "id": "4uO3kWiB2Tk1"
      },
      "execution_count": null,
      "outputs": []
    },
    {
      "cell_type": "code",
      "source": [
        "len(bream_length)"
      ],
      "metadata": {
        "colab": {
          "base_uri": "https://localhost:8080/"
        },
        "id": "hAXjlc393N1c",
        "outputId": "4d16ef7f-693f-44f0-89f0-621e30e87294"
      },
      "execution_count": null,
      "outputs": [
        {
          "output_type": "execute_result",
          "data": {
            "text/plain": [
              "35"
            ]
          },
          "metadata": {},
          "execution_count": 6
        }
      ]
    },
    {
      "cell_type": "code",
      "source": [
        "len(bream_weight)"
      ],
      "metadata": {
        "colab": {
          "base_uri": "https://localhost:8080/"
        },
        "id": "wYt1dtM-3Uup",
        "outputId": "aa007fb7-b688-4a88-eca5-c5f9be1c48eb"
      },
      "execution_count": null,
      "outputs": [
        {
          "output_type": "execute_result",
          "data": {
            "text/plain": [
              "35"
            ]
          },
          "metadata": {},
          "execution_count": 7
        }
      ]
    },
    {
      "cell_type": "code",
      "source": [
        "import matplotlib.pyplot as plt\n",
        "\n",
        "plt.scatter(bream_length, bream_weight)\n",
        "plt.xlabel('length')\n",
        "plt.ylabel('weight')\n",
        "plt.show()"
      ],
      "metadata": {
        "colab": {
          "base_uri": "https://localhost:8080/",
          "height": 279
        },
        "id": "bYr4mnt0ggmV",
        "outputId": "0b7aa474-3aab-493e-895c-0a38958ad0a0"
      },
      "execution_count": null,
      "outputs": [
        {
          "output_type": "display_data",
          "data": {
            "text/plain": [
              "<Figure size 432x288 with 1 Axes>"
            ],
            "image/png": "[encoded data removed]"
          },
          "metadata": {
            "needs_background": "light"
          }
        }
      ]
    },
    {
      "cell_type": "code",
      "source": [
        "smelt_length = [9.8, 10.5, 10.6, 11.0, 11.2, 11.3, 11.8, 11.8, 12.0, 12.2, \n",
        "                12.4, 13.0, 14.3, 15.0]\n",
        "\n",
        "smelt_weight = [6.7, 7.5, 7.0, 9.7, 9.8, 8.7, 10.0, 9.9, 9.8, 12.2, 13.4, \n",
        "                12.2, 19.7, 19.9]"
      ],
      "metadata": {
        "id": "uonqWeRy4MHo"
      },
      "execution_count": null,
      "outputs": []
    },
    {
      "cell_type": "code",
      "source": [
        "plt.scatter(bream_length, bream_weight)\n",
        "plt.scatter(smelt_length, smelt_weight) # 이렇게 두개를 연달아서 쓰면 하나의 산점도에 두개의 데이터를 중첩해서 나타내줌 (색 다르게)\n",
        "plt.xlabel('length')\n",
        "plt.ylabel('weight')\n",
        "plt.show()"
      ],
      "metadata": {
        "colab": {
          "base_uri": "https://localhost:8080/",
          "height": 279
        },
        "id": "tgWCRwiX4ebu",
        "outputId": "27cf81a0-5012-4601-872b-b9d11fbee88a"
      },
      "execution_count": null,
      "outputs": [
        {
          "output_type": "display_data",
          "data": {
            "text/plain": [
              "<Figure size 432x288 with 1 Axes>"
            ],
            "image/png": "[encoded data removed]"
          },
          "metadata": {
            "needs_background": "light"
          }
        }
      ]
    },
    {
      "cell_type": "markdown",
      "source": [
        "### 도미와 빙어 합치기"
      ],
      "metadata": {
        "id": "CpGfowbA5SKh"
      }
    },
    {
      "cell_type": "code",
      "source": [
        "length = bream_length + smelt_length\n",
        "weight = bream_weight + smelt_weight"
      ],
      "metadata": {
        "id": "C3I5-3u6490U"
      },
      "execution_count": null,
      "outputs": []
    },
    {
      "cell_type": "markdown",
      "source": [
        "리스트 내포\n",
        "- list 안에 for문이 들어있음"
      ],
      "metadata": {
        "id": "K8UFRAtB5nZ4"
      }
    },
    {
      "cell_type": "code",
      "source": [
        "fish_data = [[l,w] for l,w in zip(length, weight)]\n",
        "fish_data"
      ],
      "metadata": {
        "colab": {
          "base_uri": "https://localhost:8080/"
        },
        "id": "TBEGKHyy49xD",
        "outputId": "e1d8ae20-25bb-4f21-ccb8-486cc0484dd0"
      },
      "execution_count": null,
      "outputs": [
        {
          "output_type": "execute_result",
          "data": {
            "text/plain": [
              "[[25.4, 242.0],\n",
              " [26.3, 290.0],\n",
              " [26.5, 340.0],\n",
              " [29.0, 363.0],\n",
              " [29.0, 430.0],\n",
              " [29.7, 450.0],\n",
              " [29.7, 500.0],\n",
              " [30.0, 390.0],\n",
              " [30.0, 450.0],\n",
              " [30.7, 500.0],\n",
              " [31.0, 475.0],\n",
              " [31.0, 500.0],\n",
              " [31.5, 500.0],\n",
              " [32.0, 340.0],\n",
              " [32.0, 600.0],\n",
              " [32.0, 600.0],\n",
              " [33.0, 700.0],\n",
              " [33.0, 700.0],\n",
              " [33.5, 610.0],\n",
              " [33.5, 650.0],\n",
              " [34.0, 575.0],\n",
              " [34.0, 685.0],\n",
              " [34.5, 620.0],\n",
              " [35.0, 680.0],\n",
              " [35.0, 700.0],\n",
              " [35.0, 725.0],\n",
              " [35.0, 720.0],\n",
              " [36.0, 714.0],\n",
              " [36.0, 850.0],\n",
              " [37.0, 1000.0],\n",
              " [38.5, 920.0],\n",
              " [38.5, 955.0],\n",
              " [39.5, 925.0],\n",
              " [41.0, 975.0],\n",
              " [41.0, 950.0],\n",
              " [9.8, 6.7],\n",
              " [10.5, 7.5],\n",
              " [10.6, 7.0],\n",
              " [11.0, 9.7],\n",
              " [11.2, 9.8],\n",
              " [11.3, 8.7],\n",
              " [11.8, 10.0],\n",
              " [11.8, 9.9],\n",
              " [12.0, 9.8],\n",
              " [12.2, 12.2],\n",
              " [12.4, 13.4],\n",
              " [13.0, 12.2],\n",
              " [14.3, 19.7],\n",
              " [15.0, 19.9]]"
            ]
          },
          "metadata": {},
          "execution_count": 12
        }
      ]
    },
    {
      "cell_type": "markdown",
      "source": [
        "정답 준비\n",
        "- 정답 데이터를 0 또는 1로 두는 것이 이진 분류이다."
      ],
      "metadata": {
        "id": "h5PLqvsq6MHq"
      }
    },
    {
      "cell_type": "code",
      "source": [
        "fish_target = [1]*35 + [0]*14\n",
        "fish_target"
      ],
      "metadata": {
        "colab": {
          "base_uri": "https://localhost:8080/"
        },
        "id": "S_i2kvAS49u8",
        "outputId": "df08afba-3063-4237-f9a4-3906b70eaac8"
      },
      "execution_count": null,
      "outputs": [
        {
          "output_type": "execute_result",
          "data": {
            "text/plain": [
              "[1,\n",
              " 1,\n",
              " 1,\n",
              " 1,\n",
              " 1,\n",
              " 1,\n",
              " 1,\n",
              " 1,\n",
              " 1,\n",
              " 1,\n",
              " 1,\n",
              " 1,\n",
              " 1,\n",
              " 1,\n",
              " 1,\n",
              " 1,\n",
              " 1,\n",
              " 1,\n",
              " 1,\n",
              " 1,\n",
              " 1,\n",
              " 1,\n",
              " 1,\n",
              " 1,\n",
              " 1,\n",
              " 1,\n",
              " 1,\n",
              " 1,\n",
              " 1,\n",
              " 1,\n",
              " 1,\n",
              " 1,\n",
              " 1,\n",
              " 1,\n",
              " 1,\n",
              " 0,\n",
              " 0,\n",
              " 0,\n",
              " 0,\n",
              " 0,\n",
              " 0,\n",
              " 0,\n",
              " 0,\n",
              " 0,\n",
              " 0,\n",
              " 0,\n",
              " 0,\n",
              " 0,\n",
              " 0]"
            ]
          },
          "metadata": {},
          "execution_count": 13
        }
      ]
    },
    {
      "cell_type": "markdown",
      "source": [
        "### k-최근접 이웃\n",
        "- 머신러닝 알고리즘"
      ],
      "metadata": {
        "id": "IqkDhB4v65xD"
      }
    },
    {
      "cell_type": "code",
      "source": [
        "from sklearn.neighbors import KNeighborsClassifier\n",
        "kn = KNeighborsClassifier() # kn => 머신러닝 모델이다!\n",
        "kn.fit(fish_data, fish_target) # fit() - [train; 훈련] 파라미터로 주어진 두 데이터를 가지고 머신러닝을 훈련 \n",
        "kn.score(fish_data, fish_target) # score() - [test; 평가] 훈련한 모델이 어느정도 정확한지를 알아보는 메소드"
      ],
      "metadata": {
        "colab": {
          "base_uri": "https://localhost:8080/"
        },
        "id": "cOEVpy_k49st",
        "outputId": "97ab632d-8296-4db9-8911-6dd0c016d680"
      },
      "execution_count": null,
      "outputs": [
        {
          "output_type": "execute_result",
          "data": {
            "text/plain": [
              "1.0"
            ]
          },
          "metadata": {},
          "execution_count": 14
        }
      ]
    },
    {
      "cell_type": "markdown",
      "source": [
        "![image.png](data:image/png;base64,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)"
      ],
      "metadata": {
        "id": "PFlzUq-g_FNn"
      }
    },
    {
      "cell_type": "code",
      "source": [
        "kn.predict([[30,600]]) # predict() - 예측할 때 이용\n",
        "# 길이가 30cm이고 무게가 600g인 샘플 넣을 때 2차원 데이터로 넣어줘야 함\n",
        "# 5(기본이 5)개의 주변 샘플을 보고 가장 많은 클래스를 정답클래스로 삼는다!"
      ],
      "metadata": {
        "colab": {
          "base_uri": "https://localhost:8080/"
        },
        "id": "MfRapzBs49ql",
        "outputId": "f916712b-7fea-48f8-8949-fc7ed81c4706"
      },
      "execution_count": null,
      "outputs": [
        {
          "output_type": "execute_result",
          "data": {
            "text/plain": [
              "array([1])"
            ]
          },
          "metadata": {},
          "execution_count": 15
        }
      ]
    },
    {
      "cell_type": "markdown",
      "source": [
        "ㄴ array([1]) => 도미로 정확히 예측한걸 볼 수 있음"
      ],
      "metadata": {
        "id": "wy3I5vWj8IlY"
      }
    },
    {
      "cell_type": "markdown",
      "source": [
        "### 무조건 도미"
      ],
      "metadata": {
        "id": "hu521Bdx8npT"
      }
    },
    {
      "cell_type": "code",
      "source": [
        "kn49 = KNeighborsClassifier(n_neighbors=49) # 주변 샘플을 49개 보겠다는 의미! (여기선 생선데이터 총 개수가 49라서 일케 해보심 ㅎ..)\n",
        "\n",
        "kn49.fit(fish_data, fish_target)"
      ],
      "metadata": {
        "colab": {
          "base_uri": "https://localhost:8080/"
        },
        "id": "v-I_3fRx49n4",
        "outputId": "6002e299-4865-4445-fc40-4277928bda2b"
      },
      "execution_count": null,
      "outputs": [
        {
          "output_type": "execute_result",
          "data": {
            "text/plain": [
              "KNeighborsClassifier(n_neighbors=49)"
            ]
          },
          "metadata": {},
          "execution_count": 16
        }
      ]
    },
    {
      "cell_type": "code",
      "source": [
        "kn49.score(fish_data, fish_target)"
      ],
      "metadata": {
        "colab": {
          "base_uri": "https://localhost:8080/"
        },
        "id": "eJ_r2m0l9o3D",
        "outputId": "2f66333f-4ba4-40c5-ba1d-3bc3d9f294be"
      },
      "execution_count": null,
      "outputs": [
        {
          "output_type": "execute_result",
          "data": {
            "text/plain": [
              "0.7142857142857143"
            ]
          },
          "metadata": {},
          "execution_count": 17
        }
      ]
    },
    {
      "cell_type": "code",
      "source": [
        "print(35/49) # (도미수)/(전체데이터수)"
      ],
      "metadata": {
        "colab": {
          "base_uri": "https://localhost:8080/"
        },
        "id": "brLH_c1e49hl",
        "outputId": "9b150f85-69bd-43ef-86fe-330078973848"
      },
      "execution_count": null,
      "outputs": [
        {
          "output_type": "stream",
          "name": "stdout",
          "text": [
            "0.7142857142857143\n"
          ]
        }
      ]
    },
    {
      "cell_type": "markdown",
      "source": [
        "# 2-1. 훈련세트와 테스트세트"
      ],
      "metadata": {
        "id": "YNdcTKwgAhrU"
      }
    },
    {
      "cell_type": "markdown",
      "source": [
        "훈련세트와 테스트세트 (섞기 전)  => train_input, test_input, train_target, test_target"
      ],
      "metadata": {
        "id": "JjFAXOB_WRFF"
      }
    },
    {
      "cell_type": "code",
      "source": [
        "train_input = fish_data[:35]\n",
        "train_target = fish_target[:35]\n",
        "\n",
        "test_input = fish_data[35:]\n",
        "test_target = fish_target[35:]"
      ],
      "metadata": {
        "id": "PAer_JjgATsC"
      },
      "execution_count": null,
      "outputs": []
    },
    {
      "cell_type": "code",
      "source": [
        "from sklearn.neighbors import KNeighborsClassifier\n",
        "\n",
        "kn = KNeighborsClassifier()\n",
        "kn = kn.fit(train_input, train_target)\n",
        "\n",
        "kn.score(test_input, test_target)"
      ],
      "metadata": {
        "colab": {
          "base_uri": "https://localhost:8080/"
        },
        "id": "_4VBy3-zAToE",
        "outputId": "2acd45b3-90df-4a55-b1fc-e33e882ee87c"
      },
      "execution_count": null,
      "outputs": [
        {
          "output_type": "execute_result",
          "data": {
            "text/plain": [
              "0.0"
            ]
          },
          "metadata": {},
          "execution_count": 20
        }
      ]
    },
    {
      "cell_type": "markdown",
      "source": [
        "넘파이로 만든 훈련세트와 테스트세트 (+ 섞은 후) => train_input2, test_input2, train_target2, test_target2"
      ],
      "metadata": {
        "id": "3YUwl29eWLWe"
      }
    },
    {
      "cell_type": "code",
      "source": [
        "import numpy as np\n",
        "\n",
        "input_arr = np.array(fish_data)\n",
        "target_arr = np.array(fish_target)\n",
        "\n",
        "print(input_arr)"
      ],
      "metadata": {
        "colab": {
          "base_uri": "https://localhost:8080/"
        },
        "id": "iinz69jFATia",
        "outputId": "46fb7a2c-eeb3-4a4d-abee-c13e8c67fcdb"
      },
      "execution_count": null,
      "outputs": [
        {
          "output_type": "stream",
          "name": "stdout",
          "text": [
            "[[  25.4  242. ]\n",
            " [  26.3  290. ]\n",
            " [  26.5  340. ]\n",
            " [  29.   363. ]\n",
            " [  29.   430. ]\n",
            " [  29.7  450. ]\n",
            " [  29.7  500. ]\n",
            " [  30.   390. ]\n",
            " [  30.   450. ]\n",
            " [  30.7  500. ]\n",
            " [  31.   475. ]\n",
            " [  31.   500. ]\n",
            " [  31.5  500. ]\n",
            " [  32.   340. ]\n",
            " [  32.   600. ]\n",
            " [  32.   600. ]\n",
            " [  33.   700. ]\n",
            " [  33.   700. ]\n",
            " [  33.5  610. ]\n",
            " [  33.5  650. ]\n",
            " [  34.   575. ]\n",
            " [  34.   685. ]\n",
            " [  34.5  620. ]\n",
            " [  35.   680. ]\n",
            " [  35.   700. ]\n",
            " [  35.   725. ]\n",
            " [  35.   720. ]\n",
            " [  36.   714. ]\n",
            " [  36.   850. ]\n",
            " [  37.  1000. ]\n",
            " [  38.5  920. ]\n",
            " [  38.5  955. ]\n",
            " [  39.5  925. ]\n",
            " [  41.   975. ]\n",
            " [  41.   950. ]\n",
            " [   9.8    6.7]\n",
            " [  10.5    7.5]\n",
            " [  10.6    7. ]\n",
            " [  11.     9.7]\n",
            " [  11.2    9.8]\n",
            " [  11.3    8.7]\n",
            " [  11.8   10. ]\n",
            " [  11.8    9.9]\n",
            " [  12.     9.8]\n",
            " [  12.2   12.2]\n",
            " [  12.4   13.4]\n",
            " [  13.    12.2]\n",
            " [  14.3   19.7]\n",
            " [  15.    19.9]]\n"
          ]
        }
      ]
    },
    {
      "cell_type": "code",
      "source": [
        "target_arr"
      ],
      "metadata": {
        "colab": {
          "base_uri": "https://localhost:8080/"
        },
        "id": "PXgkt_XrMNY0",
        "outputId": "9ca86242-ad9c-40af-ee3c-4a671cbe5636"
      },
      "execution_count": null,
      "outputs": [
        {
          "output_type": "execute_result",
          "data": {
            "text/plain": [
              "array([1, 1, 1, 1, 1, 1, 1, 1, 1, 1, 1, 1, 1, 1, 1, 1, 1, 1, 1, 1, 1, 1,\n",
              "       1, 1, 1, 1, 1, 1, 1, 1, 1, 1, 1, 1, 1, 0, 0, 0, 0, 0, 0, 0, 0, 0,\n",
              "       0, 0, 0, 0, 0])"
            ]
          },
          "metadata": {},
          "execution_count": 71
        }
      ]
    },
    {
      "cell_type": "code",
      "source": [
        "index = np.arange(49)\n",
        "np.random.shuffle(index)\n",
        "\n",
        "index"
      ],
      "metadata": {
        "colab": {
          "base_uri": "https://localhost:8080/"
        },
        "id": "qg0ue0m4ATar",
        "outputId": "197fc4dc-e176-4eb7-81d1-390b688eaee4"
      },
      "execution_count": null,
      "outputs": [
        {
          "output_type": "execute_result",
          "data": {
            "text/plain": [
              "array([22, 43, 13,  5, 36, 38, 34, 46, 32, 26, 14,  9, 10, 23,  7, 33,  2,\n",
              "        6, 15, 40,  8, 30, 47, 20,  0, 42, 35, 18, 25, 39, 44, 17, 21, 48,\n",
              "       12, 27,  4, 37, 24, 41, 28,  1, 16, 19, 11,  3, 29, 31, 45])"
            ]
          },
          "metadata": {},
          "execution_count": 22
        }
      ]
    },
    {
      "cell_type": "code",
      "source": [
        "train_input2 = input_arr[index[:35]]\n",
        "train_target2 = target_arr[index[:35]]\n",
        "\n",
        "test_input2 = input_arr[index[35:]]\n",
        "test_target2 = target_arr[index[35:]]"
      ],
      "metadata": {
        "id": "X9jU1Hj1ATRE"
      },
      "execution_count": null,
      "outputs": []
    },
    {
      "cell_type": "code",
      "source": [
        "train_input2"
      ],
      "metadata": {
        "colab": {
          "base_uri": "https://localhost:8080/"
        },
        "id": "fkLgcEvxNAlg",
        "outputId": "be821b63-8045-4eb3-b509-838ad86ac5d2"
      },
      "execution_count": null,
      "outputs": [
        {
          "output_type": "execute_result",
          "data": {
            "text/plain": [
              "array([[ 34.5, 620. ],\n",
              "       [ 12. ,   9.8],\n",
              "       [ 32. , 340. ],\n",
              "       [ 29.7, 450. ],\n",
              "       [ 10.5,   7.5],\n",
              "       [ 11. ,   9.7],\n",
              "       [ 41. , 950. ],\n",
              "       [ 13. ,  12.2],\n",
              "       [ 39.5, 925. ],\n",
              "       [ 35. , 720. ],\n",
              "       [ 32. , 600. ],\n",
              "       [ 30.7, 500. ],\n",
              "       [ 31. , 475. ],\n",
              "       [ 35. , 680. ],\n",
              "       [ 30. , 390. ],\n",
              "       [ 41. , 975. ],\n",
              "       [ 26.5, 340. ],\n",
              "       [ 29.7, 500. ],\n",
              "       [ 32. , 600. ],\n",
              "       [ 11.3,   8.7],\n",
              "       [ 30. , 450. ],\n",
              "       [ 38.5, 920. ],\n",
              "       [ 14.3,  19.7],\n",
              "       [ 34. , 575. ],\n",
              "       [ 25.4, 242. ],\n",
              "       [ 11.8,   9.9],\n",
              "       [  9.8,   6.7],\n",
              "       [ 33.5, 610. ],\n",
              "       [ 35. , 725. ],\n",
              "       [ 11.2,   9.8],\n",
              "       [ 12.2,  12.2],\n",
              "       [ 33. , 700. ],\n",
              "       [ 34. , 685. ],\n",
              "       [ 15. ,  19.9],\n",
              "       [ 31.5, 500. ]])"
            ]
          },
          "metadata": {},
          "execution_count": 72
        }
      ]
    },
    {
      "cell_type": "code",
      "source": [
        "index2 = np.arange(10)"
      ],
      "metadata": {
        "id": "af2WBHwAyMrN"
      },
      "execution_count": null,
      "outputs": []
    },
    {
      "cell_type": "code",
      "source": [
        "index2"
      ],
      "metadata": {
        "colab": {
          "base_uri": "https://localhost:8080/"
        },
        "id": "-7n472QfyMnu",
        "outputId": "afd4ba15-942d-49dc-e84d-ce3300da7dfa"
      },
      "execution_count": null,
      "outputs": [
        {
          "output_type": "execute_result",
          "data": {
            "text/plain": [
              "array([0, 1, 2, 3, 4, 5, 6, 7, 8, 9])"
            ]
          },
          "metadata": {},
          "execution_count": 25
        }
      ]
    },
    {
      "cell_type": "code",
      "source": [
        "a = np.array([5,6,7,8])\n",
        "a"
      ],
      "metadata": {
        "colab": {
          "base_uri": "https://localhost:8080/"
        },
        "id": "kP7vEq1kyMld",
        "outputId": "09e19f74-9ff6-4625-80b9-63175f3c7c58"
      },
      "execution_count": null,
      "outputs": [
        {
          "output_type": "execute_result",
          "data": {
            "text/plain": [
              "array([5, 6, 7, 8])"
            ]
          },
          "metadata": {},
          "execution_count": 26
        }
      ]
    },
    {
      "cell_type": "code",
      "source": [
        "a[[1,3]]"
      ],
      "metadata": {
        "colab": {
          "base_uri": "https://localhost:8080/"
        },
        "id": "EDiTN7hSyMid",
        "outputId": "d64b3ff7-d97e-46e8-c645-0be09dff23dd"
      },
      "execution_count": null,
      "outputs": [
        {
          "output_type": "execute_result",
          "data": {
            "text/plain": [
              "array([6, 8])"
            ]
          },
          "metadata": {},
          "execution_count": 27
        }
      ]
    },
    {
      "cell_type": "code",
      "source": [
        ""
      ],
      "metadata": {
        "id": "JICnG7eg1WTD"
      },
      "execution_count": null,
      "outputs": []
    },
    {
      "cell_type": "code",
      "source": [
        "train_input2"
      ],
      "metadata": {
        "colab": {
          "base_uri": "https://localhost:8080/"
        },
        "id": "d9f1hYMU3zsE",
        "outputId": "64072ea7-5e64-4d79-c0c7-4f2f4d3576e6"
      },
      "execution_count": null,
      "outputs": [
        {
          "output_type": "execute_result",
          "data": {
            "text/plain": [
              "array([[ 34.5, 620. ],\n",
              "       [ 12. ,   9.8],\n",
              "       [ 32. , 340. ],\n",
              "       [ 29.7, 450. ],\n",
              "       [ 10.5,   7.5],\n",
              "       [ 11. ,   9.7],\n",
              "       [ 41. , 950. ],\n",
              "       [ 13. ,  12.2],\n",
              "       [ 39.5, 925. ],\n",
              "       [ 35. , 720. ],\n",
              "       [ 32. , 600. ],\n",
              "       [ 30.7, 500. ],\n",
              "       [ 31. , 475. ],\n",
              "       [ 35. , 680. ],\n",
              "       [ 30. , 390. ],\n",
              "       [ 41. , 975. ],\n",
              "       [ 26.5, 340. ],\n",
              "       [ 29.7, 500. ],\n",
              "       [ 32. , 600. ],\n",
              "       [ 11.3,   8.7],\n",
              "       [ 30. , 450. ],\n",
              "       [ 38.5, 920. ],\n",
              "       [ 14.3,  19.7],\n",
              "       [ 34. , 575. ],\n",
              "       [ 25.4, 242. ],\n",
              "       [ 11.8,   9.9],\n",
              "       [  9.8,   6.7],\n",
              "       [ 33.5, 610. ],\n",
              "       [ 35. , 725. ],\n",
              "       [ 11.2,   9.8],\n",
              "       [ 12.2,  12.2],\n",
              "       [ 33. , 700. ],\n",
              "       [ 34. , 685. ],\n",
              "       [ 15. ,  19.9],\n",
              "       [ 31.5, 500. ]])"
            ]
          },
          "metadata": {},
          "execution_count": 28
        }
      ]
    },
    {
      "cell_type": "code",
      "source": [
        "import matplotlib.pyplot as plt\n",
        "\n",
        "plt.scatter(train_input2[:,0], train_input2[:,1]) # [행,열]\n",
        "plt.scatter(test_input2[:,0], test_input2[:,1])\n",
        "plt.xlabel('length')\n",
        "plt.ylabel('weight')\n",
        "plt.show()"
      ],
      "metadata": {
        "colab": {
          "base_uri": "https://localhost:8080/",
          "height": 279
        },
        "id": "2j5SCOow1WP2",
        "outputId": "fca7dc22-5e66-496e-9bbb-ca3caf0272cd"
      },
      "execution_count": null,
      "outputs": [
        {
          "output_type": "display_data",
          "data": {
            "text/plain": [
              "<Figure size 432x288 with 1 Axes>"
            ],
            "image/png": "[encoded data removed]"
          },
          "metadata": {
            "needs_background": "light"
          }
        }
      ]
    },
    {
      "cell_type": "code",
      "source": [
        "kn = kn.fit(train_input, train_target)\n",
        "kn.score(test_input, test_target)"
      ],
      "metadata": {
        "id": "zEs0HWaQ1WL7",
        "colab": {
          "base_uri": "https://localhost:8080/"
        },
        "outputId": "d4eecde0-f313-4a8d-8025-e846b6ba8f74"
      },
      "execution_count": null,
      "outputs": [
        {
          "output_type": "execute_result",
          "data": {
            "text/plain": [
              "0.0"
            ]
          },
          "metadata": {},
          "execution_count": 30
        }
      ]
    },
    {
      "cell_type": "code",
      "source": [
        "kn = kn.fit(train_input2, train_target2)\n",
        "kn.score(test_input2, test_target2)"
      ],
      "metadata": {
        "id": "JIu7pLwM1WHt",
        "colab": {
          "base_uri": "https://localhost:8080/"
        },
        "outputId": "d379ca5d-457c-4283-b9b4-4d028d8c59c2"
      },
      "execution_count": null,
      "outputs": [
        {
          "output_type": "execute_result",
          "data": {
            "text/plain": [
              "1.0"
            ]
          },
          "metadata": {},
          "execution_count": 31
        }
      ]
    },
    {
      "cell_type": "markdown",
      "source": [
        "# 2-2. 데이터 전처리"
      ],
      "metadata": {
        "id": "eWIaBbcONgAL"
      }
    },
    {
      "cell_type": "markdown",
      "source": [
        "넘파이로 데이터 준비"
      ],
      "metadata": {
        "id": "IiWIdF8RNedQ"
      }
    },
    {
      "cell_type": "code",
      "source": [
        "fish_length = [25.4, 26.3, 26.5, 29.0, 29.0, 29.7, 29.7, 30.0, 30.0, 30.7, \n",
        "                31.0, 31.0, 31.5, 32.0, 32.0, 32.0, 33.0, 33.0, 33.5, 33.5, \n",
        "                34.0, 34.0, 34.5, 35.0, 35.0, 35.0, 35.0, 36.0, 36.0, 37.0, \n",
        "                38.5, 38.5, 39.5, 41.0, 41.0, 9.8, 10.5, 10.6, 11.0, 11.2,\n",
        "                11.3, 11.8, 11.8, 12.0, 12.2, 12.4, 13.0, 14.3, 15.0]\n",
        "\n",
        "fish_weight = [242.0, 290.0, 340.0, 363.0, 430.0, 450.0, 500.0, 390.0, \n",
        "                450.0, 500.0, 475.0, 500.0, 500.0, 340.0, 600.0, 600.0, \n",
        "                700.0, 700.0, 610.0, 650.0, 575.0, 685.0, 620.0, 680.0, \n",
        "                700.0, 725.0, 720.0, 714.0, 850.0, 1000.0, 920.0, 955.0, \n",
        "                925.0, 975.0, 950.0, 6.7, 7.5, 7.0, 9.7, 9.8, 8.7, 10.0,\n",
        "                9.9, 9.8, 12.2, 13.4, 12.2, 19.7, 19.9]"
      ],
      "metadata": {
        "id": "O-JhFHSpOuSu"
      },
      "execution_count": null,
      "outputs": []
    },
    {
      "cell_type": "code",
      "source": [
        "fish_data = np.column_stack((fish_length, fish_weight))\n",
        "fish_data"
      ],
      "metadata": {
        "id": "TuLcww4R1WFn",
        "colab": {
          "base_uri": "https://localhost:8080/"
        },
        "outputId": "95b78a66-a515-4005-9530-11fa1bc92ca2"
      },
      "execution_count": null,
      "outputs": [
        {
          "output_type": "execute_result",
          "data": {
            "text/plain": [
              "array([[  25.4,  242. ],\n",
              "       [  26.3,  290. ],\n",
              "       [  26.5,  340. ],\n",
              "       [  29. ,  363. ],\n",
              "       [  29. ,  430. ],\n",
              "       [  29.7,  450. ],\n",
              "       [  29.7,  500. ],\n",
              "       [  30. ,  390. ],\n",
              "       [  30. ,  450. ],\n",
              "       [  30.7,  500. ],\n",
              "       [  31. ,  475. ],\n",
              "       [  31. ,  500. ],\n",
              "       [  31.5,  500. ],\n",
              "       [  32. ,  340. ],\n",
              "       [  32. ,  600. ],\n",
              "       [  32. ,  600. ],\n",
              "       [  33. ,  700. ],\n",
              "       [  33. ,  700. ],\n",
              "       [  33.5,  610. ],\n",
              "       [  33.5,  650. ],\n",
              "       [  34. ,  575. ],\n",
              "       [  34. ,  685. ],\n",
              "       [  34.5,  620. ],\n",
              "       [  35. ,  680. ],\n",
              "       [  35. ,  700. ],\n",
              "       [  35. ,  725. ],\n",
              "       [  35. ,  720. ],\n",
              "       [  36. ,  714. ],\n",
              "       [  36. ,  850. ],\n",
              "       [  37. , 1000. ],\n",
              "       [  38.5,  920. ],\n",
              "       [  38.5,  955. ],\n",
              "       [  39.5,  925. ],\n",
              "       [  41. ,  975. ],\n",
              "       [  41. ,  950. ],\n",
              "       [   9.8,    6.7],\n",
              "       [  10.5,    7.5],\n",
              "       [  10.6,    7. ],\n",
              "       [  11. ,    9.7],\n",
              "       [  11.2,    9.8],\n",
              "       [  11.3,    8.7],\n",
              "       [  11.8,   10. ],\n",
              "       [  11.8,    9.9],\n",
              "       [  12. ,    9.8],\n",
              "       [  12.2,   12.2],\n",
              "       [  12.4,   13.4],\n",
              "       [  13. ,   12.2],\n",
              "       [  14.3,   19.7],\n",
              "       [  15. ,   19.9]])"
            ]
          },
          "metadata": {},
          "execution_count": 33
        }
      ]
    },
    {
      "cell_type": "code",
      "source": [
        "fish_target = np.concatenate((np.ones(35), np.zeros(14)))\n",
        "fish_target"
      ],
      "metadata": {
        "id": "ZECP9VIp1WBJ",
        "colab": {
          "base_uri": "https://localhost:8080/"
        },
        "outputId": "795c301e-8bc7-4926-c1b0-d4b9412ccc91"
      },
      "execution_count": null,
      "outputs": [
        {
          "output_type": "execute_result",
          "data": {
            "text/plain": [
              "array([1., 1., 1., 1., 1., 1., 1., 1., 1., 1., 1., 1., 1., 1., 1., 1., 1.,\n",
              "       1., 1., 1., 1., 1., 1., 1., 1., 1., 1., 1., 1., 1., 1., 1., 1., 1.,\n",
              "       1., 0., 0., 0., 0., 0., 0., 0., 0., 0., 0., 0., 0., 0., 0.])"
            ]
          },
          "metadata": {},
          "execution_count": 34
        }
      ]
    },
    {
      "cell_type": "markdown",
      "source": [
        "사이킷런으로 훈련세트와 테스트세트 나누기\n",
        "=> train_input3, test_input3, train_target3, test_target3"
      ],
      "metadata": {
        "id": "4v2uZf8bUNqm"
      }
    },
    {
      "cell_type": "code",
      "source": [
        "from sklearn.model_selection import train_test_split"
      ],
      "metadata": {
        "id": "fXb0EIq4ULsv"
      },
      "execution_count": null,
      "outputs": []
    },
    {
      "cell_type": "code",
      "source": [
        "train_input3, test_input3, train_target3, test_target3 = train_test_split(\n",
        "    fish_data, fish_target, random_state=42\n",
        ")"
      ],
      "metadata": {
        "id": "M9YIJDJVULlT"
      },
      "execution_count": null,
      "outputs": []
    },
    {
      "cell_type": "code",
      "source": [
        "print(train_input2.shape, test_input2.shape)"
      ],
      "metadata": {
        "colab": {
          "base_uri": "https://localhost:8080/"
        },
        "id": "SjcdLAGIU06U",
        "outputId": "5503e625-b46f-4456-f5ae-56867f17ad92"
      },
      "execution_count": null,
      "outputs": [
        {
          "output_type": "stream",
          "name": "stdout",
          "text": [
            "(35, 2) (14, 2)\n"
          ]
        }
      ]
    },
    {
      "cell_type": "code",
      "source": [
        "print(train_input3.shape, test_input3.shape)"
      ],
      "metadata": {
        "id": "nRKvfg_Q1V-f",
        "colab": {
          "base_uri": "https://localhost:8080/"
        },
        "outputId": "d1744e12-16a2-4cef-db38-86a5705cbdc7"
      },
      "execution_count": null,
      "outputs": [
        {
          "output_type": "stream",
          "name": "stdout",
          "text": [
            "(36, 2) (13, 2)\n"
          ]
        }
      ]
    },
    {
      "cell_type": "code",
      "source": [
        "print(test_target)"
      ],
      "metadata": {
        "colab": {
          "base_uri": "https://localhost:8080/"
        },
        "id": "gggkZrptU8ZL",
        "outputId": "37da0b63-b072-4bdf-c1b8-9b602ccf1cf6"
      },
      "execution_count": null,
      "outputs": [
        {
          "output_type": "stream",
          "name": "stdout",
          "text": [
            "[0, 0, 0, 0, 0, 0, 0, 0, 0, 0, 0, 0, 0, 0]\n"
          ]
        }
      ]
    },
    {
      "cell_type": "code",
      "source": [
        "print(test_target3)"
      ],
      "metadata": {
        "colab": {
          "base_uri": "https://localhost:8080/"
        },
        "id": "uDtmXvqgU8Un",
        "outputId": "c4e8e8e5-cca0-4b17-e49a-889b78bad858"
      },
      "execution_count": null,
      "outputs": [
        {
          "output_type": "stream",
          "name": "stdout",
          "text": [
            "[1. 0. 0. 0. 1. 1. 1. 1. 1. 1. 1. 1. 1.]\n"
          ]
        }
      ]
    },
    {
      "cell_type": "markdown",
      "source": [
        "수상한 도미"
      ],
      "metadata": {
        "id": "aXqHKi60BVRM"
      }
    },
    {
      "cell_type": "code",
      "source": [
        "from sklearn.neighbors import KNeighborsClassifier\n",
        "\n",
        "kn = KNeighborsClassifier()\n",
        "kn.fit(train_input3, train_target3)\n",
        "kn.score(test_input3, test_target3)"
      ],
      "metadata": {
        "colab": {
          "base_uri": "https://localhost:8080/"
        },
        "id": "sIC5JDgzU8QT",
        "outputId": "fd27e74d-b5f4-4749-8c45-0b9c7fd354fa"
      },
      "execution_count": null,
      "outputs": [
        {
          "output_type": "execute_result",
          "data": {
            "text/plain": [
              "1.0"
            ]
          },
          "metadata": {},
          "execution_count": 41
        }
      ]
    },
    {
      "cell_type": "code",
      "source": [
        "print(kn.predict([[25,150]])) #[25cm, 150g]인 도미 data 인데 빙어로 예측됨"
      ],
      "metadata": {
        "colab": {
          "base_uri": "https://localhost:8080/"
        },
        "id": "_GjVC6aoU8N4",
        "outputId": "5a78daae-6615-448c-faa4-0a68a75eecee"
      },
      "execution_count": null,
      "outputs": [
        {
          "output_type": "stream",
          "name": "stdout",
          "text": [
            "[0.]\n"
          ]
        }
      ]
    },
    {
      "cell_type": "code",
      "source": [
        "distances, indexes = kn.kneighbors([[25,150]])"
      ],
      "metadata": {
        "id": "URnvaPQgU8Jw"
      },
      "execution_count": null,
      "outputs": []
    },
    {
      "cell_type": "code",
      "source": [
        "print(distances, indexes)"
      ],
      "metadata": {
        "colab": {
          "base_uri": "https://localhost:8080/"
        },
        "id": "KbDATrxpCssb",
        "outputId": "98297278-9222-4ab1-825e-60d47f6afa5b"
      },
      "execution_count": null,
      "outputs": [
        {
          "output_type": "stream",
          "name": "stdout",
          "text": [
            "[[ 92.00086956 130.48375378 138.32150953 140.00603558 140.62090883]] [[12 29  5 19  4]]\n"
          ]
        }
      ]
    },
    {
      "cell_type": "code",
      "source": [
        "plt.scatter(train_input3[:,0], train_input3[:,1])\n",
        "plt.scatter(25, 150, marker='^')\n",
        "plt.scatter(train_input3[indexes,0], train_input3[indexes,1], marker='D')\n",
        "plt.xlabel('length')\n",
        "plt.ylabel('weight')\n",
        "plt.show()"
      ],
      "metadata": {
        "colab": {
          "base_uri": "https://localhost:8080/",
          "height": 279
        },
        "id": "42R5gww4U8HM",
        "outputId": "2fb126a1-7197-4075-ea8e-adbd3a806267"
      },
      "execution_count": null,
      "outputs": [
        {
          "output_type": "display_data",
          "data": {
            "text/plain": [
              "<Figure size 432x288 with 1 Axes>"
            ],
            "image/png": "[encoded data removed]"
          },
          "metadata": {
            "needs_background": "light"
          }
        }
      ]
    },
    {
      "cell_type": "markdown",
      "source": [
        "기준을 맞춰라"
      ],
      "metadata": {
        "id": "hNmYuIBEDgpn"
      }
    },
    {
      "cell_type": "code",
      "source": [
        "plt.scatter(train_input3[:,0], train_input3[:,1])\n",
        "plt.scatter(25,150,marker='^')\n",
        "plt.scatter(train_input3[indexes, 0], train_input3[indexes, 1], marker='D')\n",
        "plt.xlim((0,1000))\n",
        "plt.xlabel('length')\n",
        "plt.ylabel('weight')\n",
        "plt.show()"
      ],
      "metadata": {
        "colab": {
          "base_uri": "https://localhost:8080/",
          "height": 279
        },
        "id": "n4NtNwVGU8Ev",
        "outputId": "6e220e0b-e76e-4926-81de-8b7d4711cd4c"
      },
      "execution_count": null,
      "outputs": [
        {
          "output_type": "display_data",
          "data": {
            "text/plain": [
              "<Figure size 432x288 with 1 Axes>"
            ],
            "image/png": "[encoded data removed]"
          },
          "metadata": {
            "needs_background": "light"
          }
        }
      ]
    },
    {
      "cell_type": "markdown",
      "source": [
        "- 표준점수로 바꾸기"
      ],
      "metadata": {
        "id": "O8LZjz02Fq6g"
      }
    },
    {
      "cell_type": "code",
      "source": [
        "mean = np.mean(train_input3, axis=0) # 세로로 mean 계산\n",
        "std = np.std(train_input3, axis=0)\n",
        "\n",
        "print(mean, std)"
      ],
      "metadata": {
        "colab": {
          "base_uri": "https://localhost:8080/"
        },
        "id": "mX9P6Ue3Eau8",
        "outputId": "e764db24-3318-4f8d-fbc8-b7c7c7ec9e06"
      },
      "execution_count": null,
      "outputs": [
        {
          "output_type": "stream",
          "name": "stdout",
          "text": [
            "[ 26.175      418.08888889] [ 10.21073441 321.67847023]\n"
          ]
        }
      ]
    },
    {
      "cell_type": "markdown",
      "source": [
        "axis=0 -> 행을 따라 쭉 계산해서 두개 값의 평균이 나옴 => 결과배열의 크기 : (1,2)\n",
        "\n",
        "---\n",
        "\n",
        "\n",
        "axis=1 -> 행마다 평균 계산 => 결과배열의 크기 : (36,1)"
      ],
      "metadata": {
        "id": "4qey34NPAIeH"
      }
    },
    {
      "cell_type": "code",
      "source": [
        "train_scaled = (train_input3 - mean) / std\n",
        "train_scaled"
      ],
      "metadata": {
        "colab": {
          "base_uri": "https://localhost:8080/"
        },
        "id": "cifpUQnCEapk",
        "outputId": "97dcd630-15e9-4eaf-fe61-51b9100be61f"
      },
      "execution_count": null,
      "outputs": [
        {
          "output_type": "execute_result",
          "data": {
            "text/plain": [
              "array([[ 0.37460577,  0.09920189],\n",
              "       [ 0.27666962, -0.17125451],\n",
              "       [ 0.34522492,  0.2546366 ],\n",
              "       [-1.45680021, -1.27266487],\n",
              "       [-1.40783213, -1.26862357],\n",
              "       [-1.29030875, -1.26178444],\n",
              "       [ 0.57047806,  0.56550602],\n",
              "       [ 0.44316107,  0.2546366 ],\n",
              "       [ 0.66841421,  0.87637544],\n",
              "       [ 0.86428651,  0.87637544],\n",
              "       [ 1.4519034 ,  1.73126635],\n",
              "       [ 1.20706303,  1.56028817],\n",
              "       [-0.07590051, -0.54740651],\n",
              "       [-1.3882449 , -1.26924531],\n",
              "       [ 1.30499918,  1.57583164],\n",
              "       [ 0.34522492,  0.09920189],\n",
              "       [ 1.06015881,  1.80898371],\n",
              "       [ 0.47254192,  0.2546366 ],\n",
              "       [-1.53514913, -1.2763953 ],\n",
              "       [ 0.01224202, -0.39818919],\n",
              "       [ 0.76635036,  0.82974503],\n",
              "       [ 0.03182925, -0.24275448],\n",
              "       [-1.52535551, -1.27794965],\n",
              "       [-1.60370443, -1.27888226],\n",
              "       [ 0.86428651,  0.81420156],\n",
              "       [-1.46659382, -1.26924531],\n",
              "       [ 0.47254192,  0.17691924],\n",
              "       [ 0.81531843,  0.6276799 ],\n",
              "       [ 0.71738229,  0.59659296],\n",
              "       [-1.09443646, -1.2378475 ],\n",
              "       [ 0.76635036,  0.48778866],\n",
              "       [ 0.37460577, -0.08731977],\n",
              "       [-1.40783213, -1.26893444],\n",
              "       [ 0.57047806,  0.56550602],\n",
              "       [ 0.96222266,  1.34267957],\n",
              "       [-1.48618105, -1.26955618]])"
            ]
          },
          "metadata": {},
          "execution_count": 49
        }
      ]
    },
    {
      "cell_type": "markdown",
      "source": [
        "- 수상한 도미 다시 표시하기"
      ],
      "metadata": {
        "id": "EIz6dmlwCEl_"
      }
    },
    {
      "cell_type": "code",
      "source": [
        "plt.scatter(train_scaled[:,0], train_scaled[:,1])\n",
        "plt.scatter(25,150,marker='^')\n",
        "\n",
        "plt.xlabel('length')\n",
        "plt.ylabel('weight')\n",
        "plt.show()"
      ],
      "metadata": {
        "colab": {
          "base_uri": "https://localhost:8080/",
          "height": 279
        },
        "id": "QodpUoozEYzb",
        "outputId": "a9165c2d-7e8b-46a1-b31c-8968760cd417"
      },
      "execution_count": null,
      "outputs": [
        {
          "output_type": "display_data",
          "data": {
            "text/plain": [
              "<Figure size 432x288 with 1 Axes>"
            ],
            "image/png": "[encoded data removed]"
          },
          "metadata": {
            "needs_background": "light"
          }
        }
      ]
    },
    {
      "cell_type": "code",
      "source": [
        "new = ([25,150]-mean)/std\n",
        "\n",
        "plt.scatter(train_scaled[:,0], train_scaled[:,1])\n",
        "plt.scatter(new[0], new[1], marker='^')\n",
        "\n",
        "plt.xlabel('length')\n",
        "plt.ylabel('weight')\n",
        "plt.show()"
      ],
      "metadata": {
        "colab": {
          "base_uri": "https://localhost:8080/",
          "height": 279
        },
        "id": "7M4QwBiNEaiE",
        "outputId": "6a0489a6-c8c1-41d3-dd5c-0b0ccfc1fd37"
      },
      "execution_count": null,
      "outputs": [
        {
          "output_type": "display_data",
          "data": {
            "text/plain": [
              "<Figure size 432x288 with 1 Axes>"
            ],
            "image/png": "[encoded data removed]"
          },
          "metadata": {
            "needs_background": "light"
          }
        }
      ]
    },
    {
      "cell_type": "markdown",
      "source": [
        "전처리 데이터에서 모델 훈련"
      ],
      "metadata": {
        "id": "4schEfptEuOW"
      }
    },
    {
      "cell_type": "code",
      "source": [
        "kn.fit(train_scaled, train_target3)\n",
        "\n",
        "test_scaled = (test_input3 - mean) / std\n",
        "kn.score(test_scaled, test_target3)"
      ],
      "metadata": {
        "colab": {
          "base_uri": "https://localhost:8080/"
        },
        "id": "vD5NpFIqEafR",
        "outputId": "f62d866d-7fc3-4e0f-8965-f6d9bead42ff"
      },
      "execution_count": null,
      "outputs": [
        {
          "output_type": "execute_result",
          "data": {
            "text/plain": [
              "1.0"
            ]
          },
          "metadata": {},
          "execution_count": 64
        }
      ]
    },
    {
      "cell_type": "code",
      "source": [
        "print(kn.predict([new]))"
      ],
      "metadata": {
        "colab": {
          "base_uri": "https://localhost:8080/"
        },
        "id": "LzWAILLiE99D",
        "outputId": "d56fc90d-22ff-467a-c6f7-b06ae5a8bd71"
      },
      "execution_count": null,
      "outputs": [
        {
          "output_type": "stream",
          "name": "stdout",
          "text": [
            "[1.]\n"
          ]
        }
      ]
    },
    {
      "cell_type": "code",
      "source": [
        "distances, indexes = kn.kneighbors([new])"
      ],
      "metadata": {
        "id": "7tYT_go1E97l"
      },
      "execution_count": null,
      "outputs": []
    },
    {
      "cell_type": "code",
      "source": [
        "plt.scatter(train_scaled[:,0], train_scaled[:,1])\n",
        "plt.scatter(new[0], new[1], marker='^')\n",
        "plt.scatter(train_scaled[indexes, 0], train_scaled[indexes, 1], marker='D')\n",
        "\n",
        "plt.xlabel('length')\n",
        "plt.ylabel('weight')\n",
        "plt.show()"
      ],
      "metadata": {
        "colab": {
          "base_uri": "https://localhost:8080/",
          "height": 279
        },
        "id": "se_Fg_zXE94s",
        "outputId": "7783be5c-e241-40eb-a94e-0fa1d7f1e493"
      },
      "execution_count": null,
      "outputs": [
        {
          "output_type": "display_data",
          "data": {
            "text/plain": [
              "<Figure size 432x288 with 1 Axes>"
            ],
            "image/png": "[encoded data removed]"
          },
          "metadata": {
            "needs_background": "light"
          }
        }
      ]
    },
    {
      "cell_type": "code",
      "source": [
        ""
      ],
      "metadata": {
        "id": "sVSH2GXLE910"
      },
      "execution_count": null,
      "outputs": []
    }
  ]
}